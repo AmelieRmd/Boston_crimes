{
 "cells": [
  {
   "cell_type": "markdown",
   "id": "eb50f2a2",
   "metadata": {},
   "source": [
    "# Crimes in Boston Analysis "
   ]
  },
  {
   "cell_type": "markdown",
   "id": "095b73f1",
   "metadata": {},
   "source": [
    "Project from Kaggle Challenge : https://www.kaggle.com/datasets/AnalyzeBoston/crimes-in-boston"
   ]
  },
  {
   "cell_type": "code",
   "execution_count": 2,
   "id": "35b9b6e9",
   "metadata": {
    "ExecuteTime": {
     "end_time": "2022-05-11T10:19:02.926893Z",
     "start_time": "2022-05-11T10:19:02.922730Z"
    }
   },
   "outputs": [],
   "source": [
    "import sqlite3"
   ]
  },
  {
   "cell_type": "code",
   "execution_count": 3,
   "id": "f3b5b4f0",
   "metadata": {
    "ExecuteTime": {
     "end_time": "2022-05-11T10:19:16.569001Z",
     "start_time": "2022-05-11T10:19:14.474346Z"
    }
   },
   "outputs": [],
   "source": [
    "import numpy as np\n",
    "import pandas as pd"
   ]
  },
  {
   "cell_type": "code",
   "execution_count": 4,
   "id": "4e89e29f",
   "metadata": {
    "ExecuteTime": {
     "end_time": "2022-05-11T10:19:39.755712Z",
     "start_time": "2022-05-11T10:19:37.793376Z"
    }
   },
   "outputs": [],
   "source": [
    "import matplotlib.pyplot as plt\n",
    "import seaborn as sns"
   ]
  },
  {
   "cell_type": "code",
   "execution_count": 5,
   "id": "8c495dc0",
   "metadata": {
    "ExecuteTime": {
     "end_time": "2022-05-11T10:20:01.624842Z",
     "start_time": "2022-05-11T10:20:01.353208Z"
    }
   },
   "outputs": [],
   "source": [
    "import statsmodels.formula.api as smf"
   ]
  },
  {
   "cell_type": "markdown",
   "id": "3a6d69b5",
   "metadata": {},
   "source": [
    "# Analysis for the mayor's team"
   ]
  },
  {
   "cell_type": "markdown",
   "id": "8781ae6a",
   "metadata": {},
   "source": [
    "During the last municipal campaign in Boston, criminality has been a major topic of debates. As citizens have expressed strong expectations from her on that front, the newly-elected mayor of Boston is looking for data-based insights on criminality in the Massachussetts capital. She has mandated your economics and urbanism consulting firm, The Locomotive, for this study."
   ]
  },
  {
   "cell_type": "markdown",
   "id": "8c7f5a6f",
   "metadata": {},
   "source": [
    "## Load Database"
   ]
  },
  {
   "cell_type": "code",
   "execution_count": 13,
   "id": "940d6240",
   "metadata": {
    "ExecuteTime": {
     "end_time": "2022-05-11T12:18:44.057960Z",
     "start_time": "2022-05-11T12:18:42.227446Z"
    }
   },
   "outputs": [
    {
     "name": "stdout",
     "output_type": "stream",
     "text": [
      "  % Total    % Received % Xferd  Average Speed   Time    Time     Time  Current\n",
      "                                 Dload  Upload   Total   Spent    Left  Speed\n",
      "100 19.1M  100 19.1M    0     0  11.2M      0  0:00:01  0:00:01 --:--:-- 11.2M\n"
     ]
    }
   ],
   "source": [
    "# Download database\n",
    "!curl https://wagon-public-datasets.s3.amazonaws.com/certification_france_2021_q2/boston_crimes.sqlite > db/boston_crimes.sqlite"
   ]
  },
  {
   "cell_type": "markdown",
   "id": "2b9a54c8",
   "metadata": {},
   "source": [
    "## Explore the database"
   ]
  },
  {
   "cell_type": "markdown",
   "id": "d8f20c20",
   "metadata": {},
   "source": [
    "Three tables are available :\n",
    "\n",
    "- the incident_reports table has been provided by the Police Department of Boston. Each observation corresponds to a criminal incident that has required an intervention by the police in the municipality of Boston;\n",
    "- the districts table has been provided by the Urbanism Department of Boston. It gathers geographical information about the various police districts of Boston;\n",
    "- and the indicators table has been shared by the Economics Department of Boston, which keeps track of various indicators of the social and economic activity of Boston neighborhoods. Each observation corresponds to a police district."
   ]
  },
  {
   "cell_type": "markdown",
   "id": "404a67ee",
   "metadata": {
    "ExecuteTime": {
     "end_time": "2022-05-11T10:31:58.403330Z",
     "start_time": "2022-05-11T10:31:58.397208Z"
    }
   },
   "source": [
    "**==> I'm using DBeaver to analyse these three tables**"
   ]
  },
  {
   "cell_type": "markdown",
   "id": "8ad5ce53",
   "metadata": {
    "ExecuteTime": {
     "end_time": "2022-05-11T12:21:03.545584Z",
     "start_time": "2022-05-11T12:21:03.536981Z"
    }
   },
   "source": [
    "**==> A schema of the database is available in the db folder**"
   ]
  },
  {
   "cell_type": "markdown",
   "id": "5b88b5c2",
   "metadata": {
    "ExecuteTime": {
     "end_time": "2022-05-11T10:22:55.949182Z",
     "start_time": "2022-05-11T10:22:55.945883Z"
    }
   },
   "source": [
    "## Extract dataset"
   ]
  },
  {
   "cell_type": "markdown",
   "id": "0013722d",
   "metadata": {},
   "source": [
    "We want to investigate the influence of the socio-economic characteristics of Boston's different districts on the number of crime reports and incidents. To do so, we need to extract the relevant dataset. Each row should correspond to one of the 12 police districts of Boston (as listed in the districts table of the database).\n",
    "\n",
    "To identify the district, we will need the following columns:\n",
    "\n",
    "- the CODE of the police district (1 letter and 1 or 2 numbers);\n",
    "- the full NAME of the police district.\n",
    "- NB_INCIDENTS, i.e. the total number of incidents reported in the police district over the period covered by the data at hand (2015-2019)\n",
    "- several socio-economic indicators: \n",
    "MEDIAN_AGE;\n",
    "TOTAL_POP;\n",
    "PERC_OF_30_34;\n",
    "PERC_MARRIED_COUPLE_FAMILY;\n",
    "PER_CAPITA_INCOME;\n",
    "PERC_OTHER_STATE_OR_ABROAD;\n",
    "PERC_LESS_THAN_HIGH_SCHOOL;\n",
    "PERC_COLLEGE_GRADUATES."
   ]
  },
  {
   "cell_type": "code",
   "execution_count": 16,
   "id": "cf554ed5",
   "metadata": {
    "ExecuteTime": {
     "end_time": "2022-05-11T12:24:45.467102Z",
     "start_time": "2022-05-11T12:24:45.462400Z"
    }
   },
   "outputs": [],
   "source": [
    "# SQL query to build the dataset\n",
    "query = \"\"\"\n",
    "    SELECT\n",
    "        districts.CODE,\n",
    "        districts.NAME, \n",
    "        COUNT(incident_reports.INCIDENT_NUMBER) AS NB_INCIDENTS,\n",
    "        indicators.MEDIAN_AGE,\n",
    "        indicators.TOTAL_POP,\n",
    "        indicators.PERC_OF_30_34,\n",
    "        indicators.PERC_MARRIED_COUPLE_FAMILY,\n",
    "        indicators.PER_CAPITA_INCOME,\n",
    "        indicators.PERC_OTHER_STATE_OR_ABROAD,\n",
    "        indicators.PERC_LESS_THAN_HIGH_SCHOOL,\n",
    "        indicators.PERC_COLLEGE_GRADUATES\n",
    "    FROM districts\n",
    "    JOIN incident_reports ON incident_reports.DISTRICT = districts.CODE \n",
    "    JOIN indicators ON indicators.CODE = districts.CODE \n",
    "    GROUP BY districts.CODE\n",
    "    ORDER BY NB_INCIDENTS DESC\n",
    "\"\"\""
   ]
  },
  {
   "cell_type": "code",
   "execution_count": 17,
   "id": "208fe77e",
   "metadata": {
    "ExecuteTime": {
     "end_time": "2022-05-11T12:26:29.466889Z",
     "start_time": "2022-05-11T12:26:29.461150Z"
    }
   },
   "outputs": [],
   "source": [
    "db_path = 'db/boston_crimes.sqlite'\n",
    "conn = sqlite3.connect(db_path)\n",
    "c = conn.cursor()"
   ]
  },
  {
   "cell_type": "code",
   "execution_count": 20,
   "id": "4c7f3e04",
   "metadata": {
    "ExecuteTime": {
     "end_time": "2022-05-11T12:29:30.318139Z",
     "start_time": "2022-05-11T12:29:29.778782Z"
    }
   },
   "outputs": [
    {
     "data": {
      "text/html": [
       "<div>\n",
       "<style scoped>\n",
       "    .dataframe tbody tr th:only-of-type {\n",
       "        vertical-align: middle;\n",
       "    }\n",
       "\n",
       "    .dataframe tbody tr th {\n",
       "        vertical-align: top;\n",
       "    }\n",
       "\n",
       "    .dataframe thead th {\n",
       "        text-align: right;\n",
       "    }\n",
       "</style>\n",
       "<table border=\"1\" class=\"dataframe\">\n",
       "  <thead>\n",
       "    <tr style=\"text-align: right;\">\n",
       "      <th></th>\n",
       "      <th>CODE</th>\n",
       "      <th>NAME</th>\n",
       "      <th>NB_INCIDENTS</th>\n",
       "      <th>MEDIAN_AGE</th>\n",
       "      <th>TOTAL_POP</th>\n",
       "      <th>PERC_OF_30_34</th>\n",
       "      <th>PERC_MARRIED_COUPLE_FAMILY</th>\n",
       "      <th>PER_CAPITA_INCOME</th>\n",
       "      <th>PERC_OTHER_STATE_OR_ABROAD</th>\n",
       "      <th>PERC_LESS_THAN_HIGH_SCHOOL</th>\n",
       "      <th>PERC_COLLEGE_GRADUATES</th>\n",
       "    </tr>\n",
       "  </thead>\n",
       "  <tbody>\n",
       "    <tr>\n",
       "      <th>0</th>\n",
       "      <td>B2</td>\n",
       "      <td>Roxbury</td>\n",
       "      <td>38877</td>\n",
       "      <td>32.5</td>\n",
       "      <td>54161</td>\n",
       "      <td>27.8</td>\n",
       "      <td>17.8</td>\n",
       "      <td>20978</td>\n",
       "      <td>2.9</td>\n",
       "      <td>23.0</td>\n",
       "      <td>18.9</td>\n",
       "    </tr>\n",
       "    <tr>\n",
       "      <th>1</th>\n",
       "      <td>C11</td>\n",
       "      <td>Dorchester</td>\n",
       "      <td>32875</td>\n",
       "      <td>33.4</td>\n",
       "      <td>126909</td>\n",
       "      <td>28.2</td>\n",
       "      <td>26.6</td>\n",
       "      <td>29767</td>\n",
       "      <td>2.4</td>\n",
       "      <td>18.0</td>\n",
       "      <td>17.1</td>\n",
       "    </tr>\n",
       "    <tr>\n",
       "      <th>2</th>\n",
       "      <td>D4</td>\n",
       "      <td>South End</td>\n",
       "      <td>31258</td>\n",
       "      <td>37.1</td>\n",
       "      <td>32571</td>\n",
       "      <td>33.9</td>\n",
       "      <td>28.3</td>\n",
       "      <td>83609</td>\n",
       "      <td>6.2</td>\n",
       "      <td>11.8</td>\n",
       "      <td>8.5</td>\n",
       "    </tr>\n",
       "    <tr>\n",
       "      <th>3</th>\n",
       "      <td>B3</td>\n",
       "      <td>Mattapan</td>\n",
       "      <td>28331</td>\n",
       "      <td>36.7</td>\n",
       "      <td>26659</td>\n",
       "      <td>20.9</td>\n",
       "      <td>29.8</td>\n",
       "      <td>28356</td>\n",
       "      <td>2.3</td>\n",
       "      <td>14.5</td>\n",
       "      <td>22.9</td>\n",
       "    </tr>\n",
       "    <tr>\n",
       "      <th>4</th>\n",
       "      <td>A1</td>\n",
       "      <td>Downtown</td>\n",
       "      <td>26260</td>\n",
       "      <td>33.5</td>\n",
       "      <td>18306</td>\n",
       "      <td>32.5</td>\n",
       "      <td>35.8</td>\n",
       "      <td>80057</td>\n",
       "      <td>14.8</td>\n",
       "      <td>15.4</td>\n",
       "      <td>6.9</td>\n",
       "    </tr>\n",
       "    <tr>\n",
       "      <th>5</th>\n",
       "      <td>C6</td>\n",
       "      <td>South Boston</td>\n",
       "      <td>16617</td>\n",
       "      <td>31.9</td>\n",
       "      <td>36772</td>\n",
       "      <td>46.1</td>\n",
       "      <td>24.7</td>\n",
       "      <td>64745</td>\n",
       "      <td>2.4</td>\n",
       "      <td>7.9</td>\n",
       "      <td>8.4</td>\n",
       "    </tr>\n",
       "    <tr>\n",
       "      <th>6</th>\n",
       "      <td>D14</td>\n",
       "      <td>Brighton</td>\n",
       "      <td>13788</td>\n",
       "      <td>30.8</td>\n",
       "      <td>55297</td>\n",
       "      <td>52.8</td>\n",
       "      <td>26.4</td>\n",
       "      <td>41261</td>\n",
       "      <td>8.6</td>\n",
       "      <td>6.7</td>\n",
       "      <td>10.5</td>\n",
       "    </tr>\n",
       "    <tr>\n",
       "      <th>7</th>\n",
       "      <td>E13</td>\n",
       "      <td>Jamaica Plain</td>\n",
       "      <td>12802</td>\n",
       "      <td>34.8</td>\n",
       "      <td>40867</td>\n",
       "      <td>32.5</td>\n",
       "      <td>33.7</td>\n",
       "      <td>51655</td>\n",
       "      <td>5.5</td>\n",
       "      <td>8.0</td>\n",
       "      <td>12.1</td>\n",
       "    </tr>\n",
       "    <tr>\n",
       "      <th>8</th>\n",
       "      <td>E18</td>\n",
       "      <td>Hyde Park</td>\n",
       "      <td>12551</td>\n",
       "      <td>39.4</td>\n",
       "      <td>38924</td>\n",
       "      <td>21.1</td>\n",
       "      <td>38.4</td>\n",
       "      <td>32744</td>\n",
       "      <td>1.9</td>\n",
       "      <td>13.8</td>\n",
       "      <td>21.3</td>\n",
       "    </tr>\n",
       "    <tr>\n",
       "      <th>9</th>\n",
       "      <td>A7</td>\n",
       "      <td>East Boston</td>\n",
       "      <td>9691</td>\n",
       "      <td>30.6</td>\n",
       "      <td>47263</td>\n",
       "      <td>31.1</td>\n",
       "      <td>30.4</td>\n",
       "      <td>31473</td>\n",
       "      <td>3.5</td>\n",
       "      <td>27.2</td>\n",
       "      <td>11.5</td>\n",
       "    </tr>\n",
       "    <tr>\n",
       "      <th>10</th>\n",
       "      <td>E5</td>\n",
       "      <td>West Roxbury</td>\n",
       "      <td>9406</td>\n",
       "      <td>42.8</td>\n",
       "      <td>33526</td>\n",
       "      <td>18.1</td>\n",
       "      <td>46.2</td>\n",
       "      <td>47836</td>\n",
       "      <td>1.9</td>\n",
       "      <td>6.5</td>\n",
       "      <td>13.2</td>\n",
       "    </tr>\n",
       "    <tr>\n",
       "      <th>11</th>\n",
       "      <td>A15</td>\n",
       "      <td>Charlestown</td>\n",
       "      <td>4765</td>\n",
       "      <td>35.7</td>\n",
       "      <td>19890</td>\n",
       "      <td>28.2</td>\n",
       "      <td>36.4</td>\n",
       "      <td>75339</td>\n",
       "      <td>3.4</td>\n",
       "      <td>7.9</td>\n",
       "      <td>8.2</td>\n",
       "    </tr>\n",
       "  </tbody>\n",
       "</table>\n",
       "</div>"
      ],
      "text/plain": [
       "   CODE           NAME  NB_INCIDENTS  MEDIAN_AGE  TOTAL_POP  PERC_OF_30_34  \\\n",
       "0    B2        Roxbury         38877        32.5      54161           27.8   \n",
       "1   C11     Dorchester         32875        33.4     126909           28.2   \n",
       "2    D4      South End         31258        37.1      32571           33.9   \n",
       "3    B3       Mattapan         28331        36.7      26659           20.9   \n",
       "4    A1       Downtown         26260        33.5      18306           32.5   \n",
       "5    C6   South Boston         16617        31.9      36772           46.1   \n",
       "6   D14       Brighton         13788        30.8      55297           52.8   \n",
       "7   E13  Jamaica Plain         12802        34.8      40867           32.5   \n",
       "8   E18      Hyde Park         12551        39.4      38924           21.1   \n",
       "9    A7    East Boston          9691        30.6      47263           31.1   \n",
       "10   E5   West Roxbury          9406        42.8      33526           18.1   \n",
       "11  A15    Charlestown          4765        35.7      19890           28.2   \n",
       "\n",
       "    PERC_MARRIED_COUPLE_FAMILY  PER_CAPITA_INCOME  PERC_OTHER_STATE_OR_ABROAD  \\\n",
       "0                         17.8              20978                         2.9   \n",
       "1                         26.6              29767                         2.4   \n",
       "2                         28.3              83609                         6.2   \n",
       "3                         29.8              28356                         2.3   \n",
       "4                         35.8              80057                        14.8   \n",
       "5                         24.7              64745                         2.4   \n",
       "6                         26.4              41261                         8.6   \n",
       "7                         33.7              51655                         5.5   \n",
       "8                         38.4              32744                         1.9   \n",
       "9                         30.4              31473                         3.5   \n",
       "10                        46.2              47836                         1.9   \n",
       "11                        36.4              75339                         3.4   \n",
       "\n",
       "    PERC_LESS_THAN_HIGH_SCHOOL  PERC_COLLEGE_GRADUATES  \n",
       "0                         23.0                    18.9  \n",
       "1                         18.0                    17.1  \n",
       "2                         11.8                     8.5  \n",
       "3                         14.5                    22.9  \n",
       "4                         15.4                     6.9  \n",
       "5                          7.9                     8.4  \n",
       "6                          6.7                    10.5  \n",
       "7                          8.0                    12.1  \n",
       "8                         13.8                    21.3  \n",
       "9                         27.2                    11.5  \n",
       "10                         6.5                    13.2  \n",
       "11                         7.9                     8.2  "
      ]
     },
     "execution_count": 20,
     "metadata": {},
     "output_type": "execute_result"
    }
   ],
   "source": [
    "crimes_df = pd.read_sql_query(query, conn)\n",
    "crimes_df"
   ]
  },
  {
   "cell_type": "code",
   "execution_count": 21,
   "id": "1e82ddab",
   "metadata": {
    "ExecuteTime": {
     "end_time": "2022-05-11T12:29:53.290725Z",
     "start_time": "2022-05-11T12:29:53.285180Z"
    }
   },
   "outputs": [
    {
     "data": {
      "text/plain": [
       "(12, 11)"
      ]
     },
     "execution_count": 21,
     "metadata": {},
     "output_type": "execute_result"
    }
   ],
   "source": [
    "# check of the shape\n",
    "crimes_df.shape"
   ]
  },
  {
   "cell_type": "markdown",
   "id": "af0a0b36",
   "metadata": {},
   "source": [
    "## Linear Regression"
   ]
  },
  {
   "cell_type": "markdown",
   "id": "09b26841",
   "metadata": {},
   "source": [
    "As mentioned above, we want to investigate the impact of the socio-economic characteristics of the different Boston police districts on the number of incidents that are reported in these areas.\n",
    "\n",
    "We are going to use the number of incidents as dependent variable\n",
    "our regressors will be the various socio-economic indicators extracted from the database."
   ]
  },
  {
   "cell_type": "code",
   "execution_count": null,
   "id": "35fa106f",
   "metadata": {},
   "outputs": [],
   "source": []
  },
  {
   "cell_type": "markdown",
   "id": "799c7755",
   "metadata": {
    "ExecuteTime": {
     "end_time": "2022-05-11T10:24:09.467667Z",
     "start_time": "2022-05-11T10:24:09.463953Z"
    }
   },
   "source": [
    "# Analysis for the police department"
   ]
  },
  {
   "cell_type": "markdown",
   "id": "f23af500",
   "metadata": {},
   "source": [
    "## Data manipulation"
   ]
  },
  {
   "cell_type": "code",
   "execution_count": null,
   "id": "b16b93a9",
   "metadata": {},
   "outputs": [],
   "source": []
  },
  {
   "cell_type": "markdown",
   "id": "199dc322",
   "metadata": {
    "ExecuteTime": {
     "end_time": "2022-05-11T10:25:03.840497Z",
     "start_time": "2022-05-11T10:25:03.836867Z"
    }
   },
   "source": [
    "## Data visualisation"
   ]
  },
  {
   "cell_type": "code",
   "execution_count": null,
   "id": "20797cf2",
   "metadata": {},
   "outputs": [],
   "source": []
  },
  {
   "cell_type": "markdown",
   "id": "0332ae56",
   "metadata": {},
   "source": [
    "## Short presentation"
   ]
  },
  {
   "cell_type": "code",
   "execution_count": null,
   "id": "1c8bbae6",
   "metadata": {},
   "outputs": [],
   "source": []
  }
 ],
 "metadata": {
  "kernelspec": {
   "display_name": "Python 3 (ipykernel)",
   "language": "python",
   "name": "python3"
  },
  "language_info": {
   "codemirror_mode": {
    "name": "ipython",
    "version": 3
   },
   "file_extension": ".py",
   "mimetype": "text/x-python",
   "name": "python",
   "nbconvert_exporter": "python",
   "pygments_lexer": "ipython3",
   "version": "3.8.12"
  },
  "toc": {
   "base_numbering": 1,
   "nav_menu": {},
   "number_sections": true,
   "sideBar": true,
   "skip_h1_title": false,
   "title_cell": "Table of Contents",
   "title_sidebar": "Contents",
   "toc_cell": false,
   "toc_position": {},
   "toc_section_display": true,
   "toc_window_display": false
  }
 },
 "nbformat": 4,
 "nbformat_minor": 5
}
