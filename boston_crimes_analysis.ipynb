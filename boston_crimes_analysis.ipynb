{
 "cells": [
  {
   "cell_type": "markdown",
   "id": "24f3a55d",
   "metadata": {},
   "source": [
    "# Crimes in Boston Analysis "
   ]
  },
  {
   "cell_type": "markdown",
   "id": "06214143",
   "metadata": {},
   "source": [
    "Project from Kaggle Challenge : https://www.kaggle.com/datasets/AnalyzeBoston/crimes-in-boston"
   ]
  },
  {
   "cell_type": "code",
   "execution_count": 2,
   "id": "26fcfbac",
   "metadata": {
    "ExecuteTime": {
     "end_time": "2022-05-11T10:19:02.926893Z",
     "start_time": "2022-05-11T10:19:02.922730Z"
    }
   },
   "outputs": [],
   "source": [
    "import sqlite3"
   ]
  },
  {
   "cell_type": "code",
   "execution_count": 3,
   "id": "41e3a7a2",
   "metadata": {
    "ExecuteTime": {
     "end_time": "2022-05-11T10:19:16.569001Z",
     "start_time": "2022-05-11T10:19:14.474346Z"
    }
   },
   "outputs": [],
   "source": [
    "import numpy as np\n",
    "import pandas as pd"
   ]
  },
  {
   "cell_type": "code",
   "execution_count": 4,
   "id": "fb9c391b",
   "metadata": {
    "ExecuteTime": {
     "end_time": "2022-05-11T10:19:39.755712Z",
     "start_time": "2022-05-11T10:19:37.793376Z"
    }
   },
   "outputs": [],
   "source": [
    "import matplotlib.pyplot as plt\n",
    "import seaborn as sns"
   ]
  },
  {
   "cell_type": "code",
   "execution_count": 5,
   "id": "3e372a9e",
   "metadata": {
    "ExecuteTime": {
     "end_time": "2022-05-11T10:20:01.624842Z",
     "start_time": "2022-05-11T10:20:01.353208Z"
    }
   },
   "outputs": [],
   "source": [
    "import statsmodels.formula.api as smf"
   ]
  },
  {
   "cell_type": "markdown",
   "id": "87664a73",
   "metadata": {},
   "source": [
    "# Analysis for the mayor's team"
   ]
  },
  {
   "cell_type": "markdown",
   "id": "a0188f5a",
   "metadata": {},
   "source": [
    "During the last municipal campaign in Boston, criminality has been a major topic of debates. As citizens have expressed strong expectations from her on that front, the newly-elected mayor of Boston is looking for data-based insights on criminality in the Massachussetts capital. She has mandated your economics and urbanism consulting firm, The Locomotive, for this study."
   ]
  },
  {
   "cell_type": "markdown",
   "id": "6b99c3f1",
   "metadata": {},
   "source": [
    "## Load Database"
   ]
  },
  {
   "cell_type": "code",
   "execution_count": 13,
   "id": "d54507de",
   "metadata": {
    "ExecuteTime": {
     "end_time": "2022-05-11T12:18:44.057960Z",
     "start_time": "2022-05-11T12:18:42.227446Z"
    }
   },
   "outputs": [
    {
     "name": "stdout",
     "output_type": "stream",
     "text": [
      "  % Total    % Received % Xferd  Average Speed   Time    Time     Time  Current\n",
      "                                 Dload  Upload   Total   Spent    Left  Speed\n",
      "100 19.1M  100 19.1M    0     0  11.2M      0  0:00:01  0:00:01 --:--:-- 11.2M\n"
     ]
    }
   ],
   "source": [
    "# Download database\n",
    "!curl https://wagon-public-datasets.s3.amazonaws.com/certification_france_2021_q2/boston_crimes.sqlite > db/boston_crimes.sqlite"
   ]
  },
  {
   "cell_type": "markdown",
   "id": "13c1558c",
   "metadata": {},
   "source": [
    "## Explore the database"
   ]
  },
  {
   "cell_type": "markdown",
   "id": "270a0bb9",
   "metadata": {},
   "source": [
    "Three tables are available :\n",
    "\n",
    "- the incident_reports table has been provided by the Police Department of Boston. Each observation corresponds to a criminal incident that has required an intervention by the police in the municipality of Boston;\n",
    "- the districts table has been provided by the Urbanism Department of Boston. It gathers geographical information about the various police districts of Boston;\n",
    "- and the indicators table has been shared by the Economics Department of Boston, which keeps track of various indicators of the social and economic activity of Boston neighborhoods. Each observation corresponds to a police district."
   ]
  },
  {
   "cell_type": "code",
   "execution_count": 40,
   "id": "91ab2538",
   "metadata": {
    "ExecuteTime": {
     "end_time": "2022-05-11T13:19:05.886530Z",
     "start_time": "2022-05-11T13:19:05.883345Z"
    }
   },
   "outputs": [],
   "source": [
    "# ==> I'm using DBeaver to analyse these three tables**"
   ]
  },
  {
   "cell_type": "code",
   "execution_count": 41,
   "id": "57fc03cf",
   "metadata": {
    "ExecuteTime": {
     "end_time": "2022-05-11T13:19:16.358484Z",
     "start_time": "2022-05-11T13:19:16.355067Z"
    }
   },
   "outputs": [],
   "source": [
    "# ==> A schema of the database is available in the db folder**"
   ]
  },
  {
   "cell_type": "markdown",
   "id": "b45a014a",
   "metadata": {
    "ExecuteTime": {
     "end_time": "2022-05-11T10:22:55.949182Z",
     "start_time": "2022-05-11T10:22:55.945883Z"
    }
   },
   "source": [
    "## Extract dataset"
   ]
  },
  {
   "cell_type": "markdown",
   "id": "c617f240",
   "metadata": {},
   "source": [
    "We want to investigate the influence of the socio-economic characteristics of Boston's different districts on the number of crime reports and incidents. To do so, we need to extract the relevant dataset. Each row should correspond to one of the 12 police districts of Boston (as listed in the districts table of the database).\n",
    "\n",
    "To identify the district, we will need the following columns:\n",
    "\n",
    "- the CODE of the police district (1 letter and 1 or 2 numbers);\n",
    "- the full NAME of the police district.\n",
    "- NB_INCIDENTS, i.e. the total number of incidents reported in the police district over the period covered by the data at hand (2015-2019)\n",
    "- several socio-economic indicators: \n",
    "MEDIAN_AGE;\n",
    "TOTAL_POP;\n",
    "PERC_OF_30_34;\n",
    "PERC_MARRIED_COUPLE_FAMILY;\n",
    "PER_CAPITA_INCOME;\n",
    "PERC_OTHER_STATE_OR_ABROAD;\n",
    "PERC_LESS_THAN_HIGH_SCHOOL;\n",
    "PERC_COLLEGE_GRADUATES."
   ]
  },
  {
   "cell_type": "code",
   "execution_count": 16,
   "id": "e2b8463c",
   "metadata": {
    "ExecuteTime": {
     "end_time": "2022-05-11T12:24:45.467102Z",
     "start_time": "2022-05-11T12:24:45.462400Z"
    }
   },
   "outputs": [],
   "source": [
    "# SQL query to build the dataset\n",
    "query = \"\"\"\n",
    "    SELECT\n",
    "        districts.CODE,\n",
    "        districts.NAME, \n",
    "        COUNT(incident_reports.INCIDENT_NUMBER) AS NB_INCIDENTS,\n",
    "        indicators.MEDIAN_AGE,\n",
    "        indicators.TOTAL_POP,\n",
    "        indicators.PERC_OF_30_34,\n",
    "        indicators.PERC_MARRIED_COUPLE_FAMILY,\n",
    "        indicators.PER_CAPITA_INCOME,\n",
    "        indicators.PERC_OTHER_STATE_OR_ABROAD,\n",
    "        indicators.PERC_LESS_THAN_HIGH_SCHOOL,\n",
    "        indicators.PERC_COLLEGE_GRADUATES\n",
    "    FROM districts\n",
    "    JOIN incident_reports ON incident_reports.DISTRICT = districts.CODE \n",
    "    JOIN indicators ON indicators.CODE = districts.CODE \n",
    "    GROUP BY districts.CODE\n",
    "    ORDER BY NB_INCIDENTS DESC\n",
    "\"\"\""
   ]
  },
  {
   "cell_type": "code",
   "execution_count": 17,
   "id": "331bc603",
   "metadata": {
    "ExecuteTime": {
     "end_time": "2022-05-11T12:26:29.466889Z",
     "start_time": "2022-05-11T12:26:29.461150Z"
    }
   },
   "outputs": [],
   "source": [
    "db_path = 'db/boston_crimes.sqlite'\n",
    "conn = sqlite3.connect(db_path)\n",
    "c = conn.cursor()"
   ]
  },
  {
   "cell_type": "code",
   "execution_count": 20,
   "id": "7720df10",
   "metadata": {
    "ExecuteTime": {
     "end_time": "2022-05-11T12:29:30.318139Z",
     "start_time": "2022-05-11T12:29:29.778782Z"
    }
   },
   "outputs": [
    {
     "data": {
      "text/html": [
       "<div>\n",
       "<style scoped>\n",
       "    .dataframe tbody tr th:only-of-type {\n",
       "        vertical-align: middle;\n",
       "    }\n",
       "\n",
       "    .dataframe tbody tr th {\n",
       "        vertical-align: top;\n",
       "    }\n",
       "\n",
       "    .dataframe thead th {\n",
       "        text-align: right;\n",
       "    }\n",
       "</style>\n",
       "<table border=\"1\" class=\"dataframe\">\n",
       "  <thead>\n",
       "    <tr style=\"text-align: right;\">\n",
       "      <th></th>\n",
       "      <th>CODE</th>\n",
       "      <th>NAME</th>\n",
       "      <th>NB_INCIDENTS</th>\n",
       "      <th>MEDIAN_AGE</th>\n",
       "      <th>TOTAL_POP</th>\n",
       "      <th>PERC_OF_30_34</th>\n",
       "      <th>PERC_MARRIED_COUPLE_FAMILY</th>\n",
       "      <th>PER_CAPITA_INCOME</th>\n",
       "      <th>PERC_OTHER_STATE_OR_ABROAD</th>\n",
       "      <th>PERC_LESS_THAN_HIGH_SCHOOL</th>\n",
       "      <th>PERC_COLLEGE_GRADUATES</th>\n",
       "    </tr>\n",
       "  </thead>\n",
       "  <tbody>\n",
       "    <tr>\n",
       "      <th>0</th>\n",
       "      <td>B2</td>\n",
       "      <td>Roxbury</td>\n",
       "      <td>38877</td>\n",
       "      <td>32.5</td>\n",
       "      <td>54161</td>\n",
       "      <td>27.8</td>\n",
       "      <td>17.8</td>\n",
       "      <td>20978</td>\n",
       "      <td>2.9</td>\n",
       "      <td>23.0</td>\n",
       "      <td>18.9</td>\n",
       "    </tr>\n",
       "    <tr>\n",
       "      <th>1</th>\n",
       "      <td>C11</td>\n",
       "      <td>Dorchester</td>\n",
       "      <td>32875</td>\n",
       "      <td>33.4</td>\n",
       "      <td>126909</td>\n",
       "      <td>28.2</td>\n",
       "      <td>26.6</td>\n",
       "      <td>29767</td>\n",
       "      <td>2.4</td>\n",
       "      <td>18.0</td>\n",
       "      <td>17.1</td>\n",
       "    </tr>\n",
       "    <tr>\n",
       "      <th>2</th>\n",
       "      <td>D4</td>\n",
       "      <td>South End</td>\n",
       "      <td>31258</td>\n",
       "      <td>37.1</td>\n",
       "      <td>32571</td>\n",
       "      <td>33.9</td>\n",
       "      <td>28.3</td>\n",
       "      <td>83609</td>\n",
       "      <td>6.2</td>\n",
       "      <td>11.8</td>\n",
       "      <td>8.5</td>\n",
       "    </tr>\n",
       "    <tr>\n",
       "      <th>3</th>\n",
       "      <td>B3</td>\n",
       "      <td>Mattapan</td>\n",
       "      <td>28331</td>\n",
       "      <td>36.7</td>\n",
       "      <td>26659</td>\n",
       "      <td>20.9</td>\n",
       "      <td>29.8</td>\n",
       "      <td>28356</td>\n",
       "      <td>2.3</td>\n",
       "      <td>14.5</td>\n",
       "      <td>22.9</td>\n",
       "    </tr>\n",
       "    <tr>\n",
       "      <th>4</th>\n",
       "      <td>A1</td>\n",
       "      <td>Downtown</td>\n",
       "      <td>26260</td>\n",
       "      <td>33.5</td>\n",
       "      <td>18306</td>\n",
       "      <td>32.5</td>\n",
       "      <td>35.8</td>\n",
       "      <td>80057</td>\n",
       "      <td>14.8</td>\n",
       "      <td>15.4</td>\n",
       "      <td>6.9</td>\n",
       "    </tr>\n",
       "    <tr>\n",
       "      <th>5</th>\n",
       "      <td>C6</td>\n",
       "      <td>South Boston</td>\n",
       "      <td>16617</td>\n",
       "      <td>31.9</td>\n",
       "      <td>36772</td>\n",
       "      <td>46.1</td>\n",
       "      <td>24.7</td>\n",
       "      <td>64745</td>\n",
       "      <td>2.4</td>\n",
       "      <td>7.9</td>\n",
       "      <td>8.4</td>\n",
       "    </tr>\n",
       "    <tr>\n",
       "      <th>6</th>\n",
       "      <td>D14</td>\n",
       "      <td>Brighton</td>\n",
       "      <td>13788</td>\n",
       "      <td>30.8</td>\n",
       "      <td>55297</td>\n",
       "      <td>52.8</td>\n",
       "      <td>26.4</td>\n",
       "      <td>41261</td>\n",
       "      <td>8.6</td>\n",
       "      <td>6.7</td>\n",
       "      <td>10.5</td>\n",
       "    </tr>\n",
       "    <tr>\n",
       "      <th>7</th>\n",
       "      <td>E13</td>\n",
       "      <td>Jamaica Plain</td>\n",
       "      <td>12802</td>\n",
       "      <td>34.8</td>\n",
       "      <td>40867</td>\n",
       "      <td>32.5</td>\n",
       "      <td>33.7</td>\n",
       "      <td>51655</td>\n",
       "      <td>5.5</td>\n",
       "      <td>8.0</td>\n",
       "      <td>12.1</td>\n",
       "    </tr>\n",
       "    <tr>\n",
       "      <th>8</th>\n",
       "      <td>E18</td>\n",
       "      <td>Hyde Park</td>\n",
       "      <td>12551</td>\n",
       "      <td>39.4</td>\n",
       "      <td>38924</td>\n",
       "      <td>21.1</td>\n",
       "      <td>38.4</td>\n",
       "      <td>32744</td>\n",
       "      <td>1.9</td>\n",
       "      <td>13.8</td>\n",
       "      <td>21.3</td>\n",
       "    </tr>\n",
       "    <tr>\n",
       "      <th>9</th>\n",
       "      <td>A7</td>\n",
       "      <td>East Boston</td>\n",
       "      <td>9691</td>\n",
       "      <td>30.6</td>\n",
       "      <td>47263</td>\n",
       "      <td>31.1</td>\n",
       "      <td>30.4</td>\n",
       "      <td>31473</td>\n",
       "      <td>3.5</td>\n",
       "      <td>27.2</td>\n",
       "      <td>11.5</td>\n",
       "    </tr>\n",
       "    <tr>\n",
       "      <th>10</th>\n",
       "      <td>E5</td>\n",
       "      <td>West Roxbury</td>\n",
       "      <td>9406</td>\n",
       "      <td>42.8</td>\n",
       "      <td>33526</td>\n",
       "      <td>18.1</td>\n",
       "      <td>46.2</td>\n",
       "      <td>47836</td>\n",
       "      <td>1.9</td>\n",
       "      <td>6.5</td>\n",
       "      <td>13.2</td>\n",
       "    </tr>\n",
       "    <tr>\n",
       "      <th>11</th>\n",
       "      <td>A15</td>\n",
       "      <td>Charlestown</td>\n",
       "      <td>4765</td>\n",
       "      <td>35.7</td>\n",
       "      <td>19890</td>\n",
       "      <td>28.2</td>\n",
       "      <td>36.4</td>\n",
       "      <td>75339</td>\n",
       "      <td>3.4</td>\n",
       "      <td>7.9</td>\n",
       "      <td>8.2</td>\n",
       "    </tr>\n",
       "  </tbody>\n",
       "</table>\n",
       "</div>"
      ],
      "text/plain": [
       "   CODE           NAME  NB_INCIDENTS  MEDIAN_AGE  TOTAL_POP  PERC_OF_30_34  \\\n",
       "0    B2        Roxbury         38877        32.5      54161           27.8   \n",
       "1   C11     Dorchester         32875        33.4     126909           28.2   \n",
       "2    D4      South End         31258        37.1      32571           33.9   \n",
       "3    B3       Mattapan         28331        36.7      26659           20.9   \n",
       "4    A1       Downtown         26260        33.5      18306           32.5   \n",
       "5    C6   South Boston         16617        31.9      36772           46.1   \n",
       "6   D14       Brighton         13788        30.8      55297           52.8   \n",
       "7   E13  Jamaica Plain         12802        34.8      40867           32.5   \n",
       "8   E18      Hyde Park         12551        39.4      38924           21.1   \n",
       "9    A7    East Boston          9691        30.6      47263           31.1   \n",
       "10   E5   West Roxbury          9406        42.8      33526           18.1   \n",
       "11  A15    Charlestown          4765        35.7      19890           28.2   \n",
       "\n",
       "    PERC_MARRIED_COUPLE_FAMILY  PER_CAPITA_INCOME  PERC_OTHER_STATE_OR_ABROAD  \\\n",
       "0                         17.8              20978                         2.9   \n",
       "1                         26.6              29767                         2.4   \n",
       "2                         28.3              83609                         6.2   \n",
       "3                         29.8              28356                         2.3   \n",
       "4                         35.8              80057                        14.8   \n",
       "5                         24.7              64745                         2.4   \n",
       "6                         26.4              41261                         8.6   \n",
       "7                         33.7              51655                         5.5   \n",
       "8                         38.4              32744                         1.9   \n",
       "9                         30.4              31473                         3.5   \n",
       "10                        46.2              47836                         1.9   \n",
       "11                        36.4              75339                         3.4   \n",
       "\n",
       "    PERC_LESS_THAN_HIGH_SCHOOL  PERC_COLLEGE_GRADUATES  \n",
       "0                         23.0                    18.9  \n",
       "1                         18.0                    17.1  \n",
       "2                         11.8                     8.5  \n",
       "3                         14.5                    22.9  \n",
       "4                         15.4                     6.9  \n",
       "5                          7.9                     8.4  \n",
       "6                          6.7                    10.5  \n",
       "7                          8.0                    12.1  \n",
       "8                         13.8                    21.3  \n",
       "9                         27.2                    11.5  \n",
       "10                         6.5                    13.2  \n",
       "11                         7.9                     8.2  "
      ]
     },
     "execution_count": 20,
     "metadata": {},
     "output_type": "execute_result"
    }
   ],
   "source": [
    "crimes_df = pd.read_sql_query(query, conn)\n",
    "crimes_df"
   ]
  },
  {
   "cell_type": "code",
   "execution_count": 21,
   "id": "69d582e7",
   "metadata": {
    "ExecuteTime": {
     "end_time": "2022-05-11T12:29:53.290725Z",
     "start_time": "2022-05-11T12:29:53.285180Z"
    }
   },
   "outputs": [
    {
     "data": {
      "text/plain": [
       "(12, 11)"
      ]
     },
     "execution_count": 21,
     "metadata": {},
     "output_type": "execute_result"
    }
   ],
   "source": [
    "# check of the shape\n",
    "crimes_df.shape"
   ]
  },
  {
   "cell_type": "code",
   "execution_count": 23,
   "id": "1d52f9ed",
   "metadata": {
    "ExecuteTime": {
     "end_time": "2022-05-11T12:54:35.419948Z",
     "start_time": "2022-05-11T12:54:35.390186Z"
    }
   },
   "outputs": [
    {
     "name": "stdout",
     "output_type": "stream",
     "text": [
      "<class 'pandas.core.frame.DataFrame'>\n",
      "RangeIndex: 12 entries, 0 to 11\n",
      "Data columns (total 11 columns):\n",
      " #   Column                      Non-Null Count  Dtype  \n",
      "---  ------                      --------------  -----  \n",
      " 0   CODE                        12 non-null     object \n",
      " 1   NAME                        12 non-null     object \n",
      " 2   NB_INCIDENTS                12 non-null     int64  \n",
      " 3   MEDIAN_AGE                  12 non-null     float64\n",
      " 4   TOTAL_POP                   12 non-null     int64  \n",
      " 5   PERC_OF_30_34               12 non-null     float64\n",
      " 6   PERC_MARRIED_COUPLE_FAMILY  12 non-null     float64\n",
      " 7   PER_CAPITA_INCOME           12 non-null     int64  \n",
      " 8   PERC_OTHER_STATE_OR_ABROAD  12 non-null     float64\n",
      " 9   PERC_LESS_THAN_HIGH_SCHOOL  12 non-null     float64\n",
      " 10  PERC_COLLEGE_GRADUATES      12 non-null     float64\n",
      "dtypes: float64(6), int64(3), object(2)\n",
      "memory usage: 1.2+ KB\n"
     ]
    }
   ],
   "source": [
    "crimes_df.info()"
   ]
  },
  {
   "cell_type": "markdown",
   "id": "917ae49d",
   "metadata": {},
   "source": [
    "## Linear Regression"
   ]
  },
  {
   "cell_type": "markdown",
   "id": "6f9682ca",
   "metadata": {},
   "source": [
    "We want to investigate the impact of the socio-economic characteristics of the different Boston police districts on the number of incidents that are reported in these areas.\n",
    "\n",
    "We are going to use the number of incidents as dependent variable\n",
    "our regressors will be the various socio-economic indicators extracted from the database."
   ]
  },
  {
   "cell_type": "code",
   "execution_count": 24,
   "id": "38586aba",
   "metadata": {
    "ExecuteTime": {
     "end_time": "2022-05-11T12:57:28.252020Z",
     "start_time": "2022-05-11T12:57:28.243095Z"
    }
   },
   "outputs": [
    {
     "data": {
      "text/plain": [
       "Index(['CODE', 'NAME', 'NB_INCIDENTS', 'MEDIAN_AGE', 'TOTAL_POP',\n",
       "       'PERC_OF_30_34', 'PERC_MARRIED_COUPLE_FAMILY', 'PER_CAPITA_INCOME',\n",
       "       'PERC_OTHER_STATE_OR_ABROAD', 'PERC_LESS_THAN_HIGH_SCHOOL',\n",
       "       'PERC_COLLEGE_GRADUATES'],\n",
       "      dtype='object')"
      ]
     },
     "execution_count": 24,
     "metadata": {},
     "output_type": "execute_result"
    }
   ],
   "source": [
    "crimes_df.columns"
   ]
  },
  {
   "cell_type": "code",
   "execution_count": 28,
   "id": "561567bd",
   "metadata": {
    "ExecuteTime": {
     "end_time": "2022-05-11T13:00:50.382742Z",
     "start_time": "2022-05-11T13:00:50.287602Z"
    },
    "scrolled": false
   },
   "outputs": [
    {
     "name": "stderr",
     "output_type": "stream",
     "text": [
      "/home/ameliermd/.pyenv/versions/3.8.12/envs/lewagon/lib/python3.8/site-packages/scipy/stats/stats.py:1541: UserWarning: kurtosistest only valid for n>=20 ... continuing anyway, n=12\n",
      "  warnings.warn(\"kurtosistest only valid for n>=20 ... continuing \"\n"
     ]
    },
    {
     "data": {
      "text/html": [
       "<table class=\"simpletable\">\n",
       "<caption>OLS Regression Results</caption>\n",
       "<tr>\n",
       "  <th>Dep. Variable:</th>      <td>NB_INCIDENTS</td>   <th>  R-squared:         </th> <td>   0.899</td>\n",
       "</tr>\n",
       "<tr>\n",
       "  <th>Model:</th>                   <td>OLS</td>       <th>  Adj. R-squared:    </th> <td>   0.777</td>\n",
       "</tr>\n",
       "<tr>\n",
       "  <th>Method:</th>             <td>Least Squares</td>  <th>  F-statistic:       </th> <td>   7.391</td>\n",
       "</tr>\n",
       "<tr>\n",
       "  <th>Date:</th>             <td>Wed, 11 May 2022</td> <th>  Prob (F-statistic):</th>  <td>0.0222</td> \n",
       "</tr>\n",
       "<tr>\n",
       "  <th>Time:</th>                 <td>15:00:50</td>     <th>  Log-Likelihood:    </th> <td> -114.59</td>\n",
       "</tr>\n",
       "<tr>\n",
       "  <th>No. Observations:</th>      <td>    12</td>      <th>  AIC:               </th> <td>   243.2</td>\n",
       "</tr>\n",
       "<tr>\n",
       "  <th>Df Residuals:</th>          <td>     5</td>      <th>  BIC:               </th> <td>   246.6</td>\n",
       "</tr>\n",
       "<tr>\n",
       "  <th>Df Model:</th>              <td>     6</td>      <th>                     </th>     <td> </td>   \n",
       "</tr>\n",
       "<tr>\n",
       "  <th>Covariance Type:</th>      <td>nonrobust</td>    <th>                     </th>     <td> </td>   \n",
       "</tr>\n",
       "</table>\n",
       "<table class=\"simpletable\">\n",
       "<tr>\n",
       "               <td></td>                 <th>coef</th>     <th>std err</th>      <th>t</th>      <th>P>|t|</th>  <th>[0.025</th>    <th>0.975]</th>  \n",
       "</tr>\n",
       "<tr>\n",
       "  <th>Intercept</th>                  <td> 1.358e+04</td> <td> 6.16e+04</td> <td>    0.220</td> <td> 0.834</td> <td>-1.45e+05</td> <td> 1.72e+05</td>\n",
       "</tr>\n",
       "<tr>\n",
       "  <th>MEDIAN_AGE</th>                 <td> 2252.7344</td> <td> 1237.522</td> <td>    1.820</td> <td> 0.128</td> <td> -928.416</td> <td> 5433.885</td>\n",
       "</tr>\n",
       "<tr>\n",
       "  <th>PERC_OF_30_34</th>              <td> -532.9973</td> <td>  468.940</td> <td>   -1.137</td> <td> 0.307</td> <td>-1738.447</td> <td>  672.452</td>\n",
       "</tr>\n",
       "<tr>\n",
       "  <th>PERC_MARRIED_COUPLE_FAMILY</th> <td>-2115.1839</td> <td>  408.344</td> <td>   -5.180</td> <td> 0.004</td> <td>-3164.866</td> <td>-1065.502</td>\n",
       "</tr>\n",
       "<tr>\n",
       "  <th>PERC_OTHER_STATE_OR_ABROAD</th> <td> 1787.6939</td> <td>  532.432</td> <td>    3.358</td> <td> 0.020</td> <td>  419.034</td> <td> 3156.354</td>\n",
       "</tr>\n",
       "<tr>\n",
       "  <th>PERC_LESS_THAN_HIGH_SCHOOL</th> <td>  112.7375</td> <td>  493.977</td> <td>    0.228</td> <td> 0.829</td> <td>-1157.072</td> <td> 1382.547</td>\n",
       "</tr>\n",
       "<tr>\n",
       "  <th>PERC_COLLEGE_GRADUATES</th>     <td>   19.4699</td> <td>  458.775</td> <td>    0.042</td> <td> 0.968</td> <td>-1159.850</td> <td> 1198.790</td>\n",
       "</tr>\n",
       "</table>\n",
       "<table class=\"simpletable\">\n",
       "<tr>\n",
       "  <th>Omnibus:</th>       <td> 6.933</td> <th>  Durbin-Watson:     </th> <td>   2.325</td>\n",
       "</tr>\n",
       "<tr>\n",
       "  <th>Prob(Omnibus):</th> <td> 0.031</td> <th>  Jarque-Bera (JB):  </th> <td>   3.155</td>\n",
       "</tr>\n",
       "<tr>\n",
       "  <th>Skew:</th>          <td> 1.148</td> <th>  Prob(JB):          </th> <td>   0.206</td>\n",
       "</tr>\n",
       "<tr>\n",
       "  <th>Kurtosis:</th>      <td> 4.020</td> <th>  Cond. No.          </th> <td>2.42e+03</td>\n",
       "</tr>\n",
       "</table><br/><br/>Warnings:<br/>[1] Standard Errors assume that the covariance matrix of the errors is correctly specified.<br/>[2] The condition number is large, 2.42e+03. This might indicate that there are<br/>strong multicollinearity or other numerical problems."
      ],
      "text/plain": [
       "<class 'statsmodels.iolib.summary.Summary'>\n",
       "\"\"\"\n",
       "                            OLS Regression Results                            \n",
       "==============================================================================\n",
       "Dep. Variable:           NB_INCIDENTS   R-squared:                       0.899\n",
       "Model:                            OLS   Adj. R-squared:                  0.777\n",
       "Method:                 Least Squares   F-statistic:                     7.391\n",
       "Date:                Wed, 11 May 2022   Prob (F-statistic):             0.0222\n",
       "Time:                        15:00:50   Log-Likelihood:                -114.59\n",
       "No. Observations:                  12   AIC:                             243.2\n",
       "Df Residuals:                       5   BIC:                             246.6\n",
       "Df Model:                           6                                         \n",
       "Covariance Type:            nonrobust                                         \n",
       "==============================================================================================\n",
       "                                 coef    std err          t      P>|t|      [0.025      0.975]\n",
       "----------------------------------------------------------------------------------------------\n",
       "Intercept                   1.358e+04   6.16e+04      0.220      0.834   -1.45e+05    1.72e+05\n",
       "MEDIAN_AGE                  2252.7344   1237.522      1.820      0.128    -928.416    5433.885\n",
       "PERC_OF_30_34               -532.9973    468.940     -1.137      0.307   -1738.447     672.452\n",
       "PERC_MARRIED_COUPLE_FAMILY -2115.1839    408.344     -5.180      0.004   -3164.866   -1065.502\n",
       "PERC_OTHER_STATE_OR_ABROAD  1787.6939    532.432      3.358      0.020     419.034    3156.354\n",
       "PERC_LESS_THAN_HIGH_SCHOOL   112.7375    493.977      0.228      0.829   -1157.072    1382.547\n",
       "PERC_COLLEGE_GRADUATES        19.4699    458.775      0.042      0.968   -1159.850    1198.790\n",
       "==============================================================================\n",
       "Omnibus:                        6.933   Durbin-Watson:                   2.325\n",
       "Prob(Omnibus):                  0.031   Jarque-Bera (JB):                3.155\n",
       "Skew:                           1.148   Prob(JB):                        0.206\n",
       "Kurtosis:                       4.020   Cond. No.                     2.42e+03\n",
       "==============================================================================\n",
       "\n",
       "Warnings:\n",
       "[1] Standard Errors assume that the covariance matrix of the errors is correctly specified.\n",
       "[2] The condition number is large, 2.42e+03. This might indicate that there are\n",
       "strong multicollinearity or other numerical problems.\n",
       "\"\"\""
      ]
     },
     "execution_count": 28,
     "metadata": {},
     "output_type": "execute_result"
    }
   ],
   "source": [
    "model = smf.ols(formula='NB_INCIDENTS ~ MEDIAN_AGE + PERC_OF_30_34 + PERC_MARRIED_COUPLE_FAMILY + PERC_OTHER_STATE_OR_ABROAD \\\n",
    "+ PERC_LESS_THAN_HIGH_SCHOOL + PERC_COLLEGE_GRADUATES', data=crimes_df)\n",
    "model = model.fit()\n",
    "model.summary()"
   ]
  },
  {
   "cell_type": "markdown",
   "id": "27ba65cb",
   "metadata": {},
   "source": [
    "### Analysis of MEDIAN_AGE\n"
   ]
  },
  {
   "cell_type": "code",
   "execution_count": 29,
   "id": "2d564a6f",
   "metadata": {
    "ExecuteTime": {
     "end_time": "2022-05-11T13:05:05.721057Z",
     "start_time": "2022-05-11T13:05:05.716313Z"
    }
   },
   "outputs": [],
   "source": [
    "# median age is associated with a positive effect (see the positive coef in the summary)"
   ]
  },
  {
   "cell_type": "code",
   "execution_count": 31,
   "id": "c2cbdf96",
   "metadata": {
    "ExecuteTime": {
     "end_time": "2022-05-11T13:05:57.929948Z",
     "start_time": "2022-05-11T13:05:57.924873Z"
    }
   },
   "outputs": [],
   "source": [
    "# for median age, t_statistic = 1.820 (from summary)\n",
    "# t_statistic = coef / standard error"
   ]
  },
  {
   "cell_type": "code",
   "execution_count": 32,
   "id": "04b5c3c6",
   "metadata": {
    "ExecuteTime": {
     "end_time": "2022-05-11T13:06:45.793582Z",
     "start_time": "2022-05-11T13:06:45.787869Z"
    }
   },
   "outputs": [
    {
     "data": {
      "text/plain": [
       "1.8203590724043692"
      ]
     },
     "execution_count": 32,
     "metadata": {},
     "output_type": "execute_result"
    }
   ],
   "source": [
    "t_statistic = 2252.7344 / 1237.522\n",
    "t_statistic"
   ]
  },
  {
   "cell_type": "code",
   "execution_count": 34,
   "id": "b7b2259f",
   "metadata": {
    "ExecuteTime": {
     "end_time": "2022-05-11T13:10:21.511573Z",
     "start_time": "2022-05-11T13:10:21.504370Z"
    }
   },
   "outputs": [
    {
     "data": {
      "text/plain": [
       "1.820359754327443"
      ]
     },
     "execution_count": 34,
     "metadata": {},
     "output_type": "execute_result"
    }
   ],
   "source": [
    "# recompute t_stat with the summary's data\n",
    "coef = model.params['MEDIAN_AGE']\n",
    "std_err = model.bse['MEDIAN_AGE']\n",
    "t_stat = coef / std_err\n",
    "t_stat"
   ]
  },
  {
   "cell_type": "code",
   "execution_count": 35,
   "id": "4478751f",
   "metadata": {
    "ExecuteTime": {
     "end_time": "2022-05-11T13:12:52.696330Z",
     "start_time": "2022-05-11T13:12:52.690245Z"
    }
   },
   "outputs": [],
   "source": [
    "# p_value of MEDIAN_AGE\n",
    "p_value = 0.128\n",
    "#     P value is the probability that what you observed is just due to pure chance\n",
    "#     La proba que l'hypothèse nulle soit vraie est ici de 12.8% : cela reste assez élevé. \n",
    "#     La corrélation entre le median age et le nb of incidents n'est donc pas complètement avérée."
   ]
  },
  {
   "cell_type": "markdown",
   "id": "b4d0abf2",
   "metadata": {},
   "source": [
    "### Regressors whose effect is statistically significant"
   ]
  },
  {
   "cell_type": "code",
   "execution_count": 36,
   "id": "857d39a3",
   "metadata": {
    "ExecuteTime": {
     "end_time": "2022-05-11T13:14:37.020628Z",
     "start_time": "2022-05-11T13:14:37.016307Z"
    }
   },
   "outputs": [],
   "source": [
    "# The regressors whose effect is statistically significant at the 95% confidence level in this regression model are :\n",
    "# 'PERC_MARRIED_COUPLE_FAMILY' and 'PERC_OTHER_STATE_OR_ABROAD' (smallest p_value)"
   ]
  },
  {
   "cell_type": "code",
   "execution_count": 38,
   "id": "26028bb5",
   "metadata": {
    "ExecuteTime": {
     "end_time": "2022-05-11T13:16:30.623035Z",
     "start_time": "2022-05-11T13:16:30.617634Z"
    }
   },
   "outputs": [],
   "source": [
    "# For 1% increases of married couples in the district, the number of incidents decreases of -2115 \n",
    "# (see coef of PERC_MARRIED_COUPLE_FAMILY)"
   ]
  },
  {
   "cell_type": "markdown",
   "id": "2c2ef52a",
   "metadata": {},
   "source": [
    "### Limits of this regression model"
   ]
  },
  {
   "cell_type": "code",
   "execution_count": 39,
   "id": "a25373cd",
   "metadata": {
    "ExecuteTime": {
     "end_time": "2022-05-11T13:18:31.872477Z",
     "start_time": "2022-05-11T13:18:31.866988Z"
    }
   },
   "outputs": [],
   "source": [
    "# Comme observé précédemment, les p values de 4 regressors sont élevées : median_age, perc of 30-34, \n",
    "# high_school et college_graduates. Seuls married_couple et state_or_abroad ont le plus d'effet sur le nb of incidents.\n",
    "# D'autre part, nous n'avons que 12 lignes, donc 12 observations : cela est très faible pour construire une regression."
   ]
  },
  {
   "cell_type": "markdown",
   "id": "454d61df",
   "metadata": {
    "ExecuteTime": {
     "end_time": "2022-05-11T10:24:09.467667Z",
     "start_time": "2022-05-11T10:24:09.463953Z"
    }
   },
   "source": [
    "# Analysis for the police department"
   ]
  },
  {
   "cell_type": "markdown",
   "id": "0af3e7d1",
   "metadata": {},
   "source": [
    "## Data manipulation"
   ]
  },
  {
   "cell_type": "code",
   "execution_count": null,
   "id": "72a6fe2a",
   "metadata": {},
   "outputs": [],
   "source": []
  },
  {
   "cell_type": "markdown",
   "id": "205603be",
   "metadata": {
    "ExecuteTime": {
     "end_time": "2022-05-11T10:25:03.840497Z",
     "start_time": "2022-05-11T10:25:03.836867Z"
    }
   },
   "source": [
    "## Data visualisation"
   ]
  },
  {
   "cell_type": "code",
   "execution_count": null,
   "id": "630fe693",
   "metadata": {},
   "outputs": [],
   "source": []
  },
  {
   "cell_type": "markdown",
   "id": "175cb00c",
   "metadata": {},
   "source": [
    "## Short presentation"
   ]
  },
  {
   "cell_type": "code",
   "execution_count": null,
   "id": "bcbd82aa",
   "metadata": {},
   "outputs": [],
   "source": []
  }
 ],
 "metadata": {
  "kernelspec": {
   "display_name": "Python 3 (ipykernel)",
   "language": "python",
   "name": "python3"
  },
  "language_info": {
   "codemirror_mode": {
    "name": "ipython",
    "version": 3
   },
   "file_extension": ".py",
   "mimetype": "text/x-python",
   "name": "python",
   "nbconvert_exporter": "python",
   "pygments_lexer": "ipython3",
   "version": "3.8.12"
  },
  "toc": {
   "base_numbering": 1,
   "nav_menu": {},
   "number_sections": true,
   "sideBar": true,
   "skip_h1_title": false,
   "title_cell": "Table of Contents",
   "title_sidebar": "Contents",
   "toc_cell": false,
   "toc_position": {},
   "toc_section_display": true,
   "toc_window_display": false
  }
 },
 "nbformat": 4,
 "nbformat_minor": 5
}
