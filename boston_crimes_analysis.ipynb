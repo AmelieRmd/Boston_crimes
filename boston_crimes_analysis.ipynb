{
 "cells": [
  {
   "cell_type": "markdown",
   "id": "cc4e2f99",
   "metadata": {},
   "source": [
    "# Crimes in Boston Analysis "
   ]
  },
  {
   "cell_type": "markdown",
   "id": "32c9a047",
   "metadata": {},
   "source": [
    "Project from Kaggle Challenge : https://www.kaggle.com/datasets/AnalyzeBoston/crimes-in-boston"
   ]
  },
  {
   "cell_type": "code",
   "execution_count": 2,
   "id": "4420b5d2",
   "metadata": {
    "ExecuteTime": {
     "end_time": "2022-05-11T10:19:02.926893Z",
     "start_time": "2022-05-11T10:19:02.922730Z"
    }
   },
   "outputs": [],
   "source": [
    "import sqlite3"
   ]
  },
  {
   "cell_type": "code",
   "execution_count": 3,
   "id": "5f793206",
   "metadata": {
    "ExecuteTime": {
     "end_time": "2022-05-11T10:19:16.569001Z",
     "start_time": "2022-05-11T10:19:14.474346Z"
    }
   },
   "outputs": [],
   "source": [
    "import numpy as np\n",
    "import pandas as pd"
   ]
  },
  {
   "cell_type": "code",
   "execution_count": 4,
   "id": "b550ada5",
   "metadata": {
    "ExecuteTime": {
     "end_time": "2022-05-11T10:19:39.755712Z",
     "start_time": "2022-05-11T10:19:37.793376Z"
    }
   },
   "outputs": [],
   "source": [
    "import matplotlib.pyplot as plt\n",
    "import seaborn as sns"
   ]
  },
  {
   "cell_type": "code",
   "execution_count": 5,
   "id": "1d09487f",
   "metadata": {
    "ExecuteTime": {
     "end_time": "2022-05-11T10:20:01.624842Z",
     "start_time": "2022-05-11T10:20:01.353208Z"
    }
   },
   "outputs": [],
   "source": [
    "import statsmodels.formula.api as smf"
   ]
  },
  {
   "cell_type": "markdown",
   "id": "872134f9",
   "metadata": {},
   "source": [
    "# Analysis for the mayor's team"
   ]
  },
  {
   "cell_type": "markdown",
   "id": "da414173",
   "metadata": {},
   "source": [
    "During the last municipal campaign in Boston, criminality has been a major topic of debates. As citizens have expressed strong expectations from her on that front, the newly-elected mayor of Boston is looking for data-based insights on criminality in the Massachussetts capital. She has mandated your economics and urbanism consulting firm, The Locomotive, for this study."
   ]
  },
  {
   "cell_type": "markdown",
   "id": "bcdb1f9f",
   "metadata": {},
   "source": [
    "## Load Database"
   ]
  },
  {
   "cell_type": "code",
   "execution_count": 13,
   "id": "ad01a9ac",
   "metadata": {
    "ExecuteTime": {
     "end_time": "2022-05-11T12:18:44.057960Z",
     "start_time": "2022-05-11T12:18:42.227446Z"
    }
   },
   "outputs": [
    {
     "name": "stdout",
     "output_type": "stream",
     "text": [
      "  % Total    % Received % Xferd  Average Speed   Time    Time     Time  Current\n",
      "                                 Dload  Upload   Total   Spent    Left  Speed\n",
      "100 19.1M  100 19.1M    0     0  11.2M      0  0:00:01  0:00:01 --:--:-- 11.2M\n"
     ]
    }
   ],
   "source": [
    "# Download database\n",
    "!curl https://wagon-public-datasets.s3.amazonaws.com/certification_france_2021_q2/boston_crimes.sqlite > db/boston_crimes.sqlite"
   ]
  },
  {
   "cell_type": "markdown",
   "id": "a67e6b71",
   "metadata": {},
   "source": [
    "## Explore the database"
   ]
  },
  {
   "cell_type": "markdown",
   "id": "b06f5b04",
   "metadata": {},
   "source": [
    "Three tables are available :\n",
    "\n",
    "- the incident_reports table has been provided by the Police Department of Boston. Each observation corresponds to a criminal incident that has required an intervention by the police in the municipality of Boston;\n",
    "- the districts table has been provided by the Urbanism Department of Boston. It gathers geographical information about the various police districts of Boston;\n",
    "- and the indicators table has been shared by the Economics Department of Boston, which keeps track of various indicators of the social and economic activity of Boston neighborhoods. Each observation corresponds to a police district."
   ]
  },
  {
   "cell_type": "code",
   "execution_count": 40,
   "id": "4f31df01",
   "metadata": {
    "ExecuteTime": {
     "end_time": "2022-05-11T13:19:05.886530Z",
     "start_time": "2022-05-11T13:19:05.883345Z"
    }
   },
   "outputs": [],
   "source": [
    "# ==> I'm using DBeaver to analyse these three tables**"
   ]
  },
  {
   "cell_type": "code",
   "execution_count": 41,
   "id": "bf01f6d9",
   "metadata": {
    "ExecuteTime": {
     "end_time": "2022-05-11T13:19:16.358484Z",
     "start_time": "2022-05-11T13:19:16.355067Z"
    }
   },
   "outputs": [],
   "source": [
    "# ==> A schema of the database is available in the db folder**"
   ]
  },
  {
   "cell_type": "markdown",
   "id": "9d66be0f",
   "metadata": {
    "ExecuteTime": {
     "end_time": "2022-05-11T10:22:55.949182Z",
     "start_time": "2022-05-11T10:22:55.945883Z"
    }
   },
   "source": [
    "## Extract dataset"
   ]
  },
  {
   "cell_type": "markdown",
   "id": "2eb85d34",
   "metadata": {},
   "source": [
    "We want to investigate the influence of the socio-economic characteristics of Boston's different districts on the number of crime reports and incidents. To do so, we need to extract the relevant dataset. Each row should correspond to one of the 12 police districts of Boston (as listed in the districts table of the database).\n",
    "\n",
    "To identify the district, we will need the following columns:\n",
    "\n",
    "- the CODE of the police district (1 letter and 1 or 2 numbers);\n",
    "- the full NAME of the police district.\n",
    "- NB_INCIDENTS, i.e. the total number of incidents reported in the police district over the period covered by the data at hand (2015-2019)\n",
    "- several socio-economic indicators: \n",
    "MEDIAN_AGE;\n",
    "TOTAL_POP;\n",
    "PERC_OF_30_34;\n",
    "PERC_MARRIED_COUPLE_FAMILY;\n",
    "PER_CAPITA_INCOME;\n",
    "PERC_OTHER_STATE_OR_ABROAD;\n",
    "PERC_LESS_THAN_HIGH_SCHOOL;\n",
    "PERC_COLLEGE_GRADUATES."
   ]
  },
  {
   "cell_type": "code",
   "execution_count": 16,
   "id": "f1c9d023",
   "metadata": {
    "ExecuteTime": {
     "end_time": "2022-05-11T12:24:45.467102Z",
     "start_time": "2022-05-11T12:24:45.462400Z"
    }
   },
   "outputs": [],
   "source": [
    "# SQL query to build the dataset\n",
    "query = \"\"\"\n",
    "    SELECT\n",
    "        districts.CODE,\n",
    "        districts.NAME, \n",
    "        COUNT(incident_reports.INCIDENT_NUMBER) AS NB_INCIDENTS,\n",
    "        indicators.MEDIAN_AGE,\n",
    "        indicators.TOTAL_POP,\n",
    "        indicators.PERC_OF_30_34,\n",
    "        indicators.PERC_MARRIED_COUPLE_FAMILY,\n",
    "        indicators.PER_CAPITA_INCOME,\n",
    "        indicators.PERC_OTHER_STATE_OR_ABROAD,\n",
    "        indicators.PERC_LESS_THAN_HIGH_SCHOOL,\n",
    "        indicators.PERC_COLLEGE_GRADUATES\n",
    "    FROM districts\n",
    "    JOIN incident_reports ON incident_reports.DISTRICT = districts.CODE \n",
    "    JOIN indicators ON indicators.CODE = districts.CODE \n",
    "    GROUP BY districts.CODE\n",
    "    ORDER BY NB_INCIDENTS DESC\n",
    "\"\"\""
   ]
  },
  {
   "cell_type": "code",
   "execution_count": 17,
   "id": "3620cd1a",
   "metadata": {
    "ExecuteTime": {
     "end_time": "2022-05-11T12:26:29.466889Z",
     "start_time": "2022-05-11T12:26:29.461150Z"
    }
   },
   "outputs": [],
   "source": [
    "db_path = 'db/boston_crimes.sqlite'\n",
    "conn = sqlite3.connect(db_path)\n",
    "c = conn.cursor()"
   ]
  },
  {
   "cell_type": "code",
   "execution_count": 20,
   "id": "2c9f1d00",
   "metadata": {
    "ExecuteTime": {
     "end_time": "2022-05-11T12:29:30.318139Z",
     "start_time": "2022-05-11T12:29:29.778782Z"
    }
   },
   "outputs": [
    {
     "data": {
      "text/html": [
       "<div>\n",
       "<style scoped>\n",
       "    .dataframe tbody tr th:only-of-type {\n",
       "        vertical-align: middle;\n",
       "    }\n",
       "\n",
       "    .dataframe tbody tr th {\n",
       "        vertical-align: top;\n",
       "    }\n",
       "\n",
       "    .dataframe thead th {\n",
       "        text-align: right;\n",
       "    }\n",
       "</style>\n",
       "<table border=\"1\" class=\"dataframe\">\n",
       "  <thead>\n",
       "    <tr style=\"text-align: right;\">\n",
       "      <th></th>\n",
       "      <th>CODE</th>\n",
       "      <th>NAME</th>\n",
       "      <th>NB_INCIDENTS</th>\n",
       "      <th>MEDIAN_AGE</th>\n",
       "      <th>TOTAL_POP</th>\n",
       "      <th>PERC_OF_30_34</th>\n",
       "      <th>PERC_MARRIED_COUPLE_FAMILY</th>\n",
       "      <th>PER_CAPITA_INCOME</th>\n",
       "      <th>PERC_OTHER_STATE_OR_ABROAD</th>\n",
       "      <th>PERC_LESS_THAN_HIGH_SCHOOL</th>\n",
       "      <th>PERC_COLLEGE_GRADUATES</th>\n",
       "    </tr>\n",
       "  </thead>\n",
       "  <tbody>\n",
       "    <tr>\n",
       "      <th>0</th>\n",
       "      <td>B2</td>\n",
       "      <td>Roxbury</td>\n",
       "      <td>38877</td>\n",
       "      <td>32.5</td>\n",
       "      <td>54161</td>\n",
       "      <td>27.8</td>\n",
       "      <td>17.8</td>\n",
       "      <td>20978</td>\n",
       "      <td>2.9</td>\n",
       "      <td>23.0</td>\n",
       "      <td>18.9</td>\n",
       "    </tr>\n",
       "    <tr>\n",
       "      <th>1</th>\n",
       "      <td>C11</td>\n",
       "      <td>Dorchester</td>\n",
       "      <td>32875</td>\n",
       "      <td>33.4</td>\n",
       "      <td>126909</td>\n",
       "      <td>28.2</td>\n",
       "      <td>26.6</td>\n",
       "      <td>29767</td>\n",
       "      <td>2.4</td>\n",
       "      <td>18.0</td>\n",
       "      <td>17.1</td>\n",
       "    </tr>\n",
       "    <tr>\n",
       "      <th>2</th>\n",
       "      <td>D4</td>\n",
       "      <td>South End</td>\n",
       "      <td>31258</td>\n",
       "      <td>37.1</td>\n",
       "      <td>32571</td>\n",
       "      <td>33.9</td>\n",
       "      <td>28.3</td>\n",
       "      <td>83609</td>\n",
       "      <td>6.2</td>\n",
       "      <td>11.8</td>\n",
       "      <td>8.5</td>\n",
       "    </tr>\n",
       "    <tr>\n",
       "      <th>3</th>\n",
       "      <td>B3</td>\n",
       "      <td>Mattapan</td>\n",
       "      <td>28331</td>\n",
       "      <td>36.7</td>\n",
       "      <td>26659</td>\n",
       "      <td>20.9</td>\n",
       "      <td>29.8</td>\n",
       "      <td>28356</td>\n",
       "      <td>2.3</td>\n",
       "      <td>14.5</td>\n",
       "      <td>22.9</td>\n",
       "    </tr>\n",
       "    <tr>\n",
       "      <th>4</th>\n",
       "      <td>A1</td>\n",
       "      <td>Downtown</td>\n",
       "      <td>26260</td>\n",
       "      <td>33.5</td>\n",
       "      <td>18306</td>\n",
       "      <td>32.5</td>\n",
       "      <td>35.8</td>\n",
       "      <td>80057</td>\n",
       "      <td>14.8</td>\n",
       "      <td>15.4</td>\n",
       "      <td>6.9</td>\n",
       "    </tr>\n",
       "    <tr>\n",
       "      <th>5</th>\n",
       "      <td>C6</td>\n",
       "      <td>South Boston</td>\n",
       "      <td>16617</td>\n",
       "      <td>31.9</td>\n",
       "      <td>36772</td>\n",
       "      <td>46.1</td>\n",
       "      <td>24.7</td>\n",
       "      <td>64745</td>\n",
       "      <td>2.4</td>\n",
       "      <td>7.9</td>\n",
       "      <td>8.4</td>\n",
       "    </tr>\n",
       "    <tr>\n",
       "      <th>6</th>\n",
       "      <td>D14</td>\n",
       "      <td>Brighton</td>\n",
       "      <td>13788</td>\n",
       "      <td>30.8</td>\n",
       "      <td>55297</td>\n",
       "      <td>52.8</td>\n",
       "      <td>26.4</td>\n",
       "      <td>41261</td>\n",
       "      <td>8.6</td>\n",
       "      <td>6.7</td>\n",
       "      <td>10.5</td>\n",
       "    </tr>\n",
       "    <tr>\n",
       "      <th>7</th>\n",
       "      <td>E13</td>\n",
       "      <td>Jamaica Plain</td>\n",
       "      <td>12802</td>\n",
       "      <td>34.8</td>\n",
       "      <td>40867</td>\n",
       "      <td>32.5</td>\n",
       "      <td>33.7</td>\n",
       "      <td>51655</td>\n",
       "      <td>5.5</td>\n",
       "      <td>8.0</td>\n",
       "      <td>12.1</td>\n",
       "    </tr>\n",
       "    <tr>\n",
       "      <th>8</th>\n",
       "      <td>E18</td>\n",
       "      <td>Hyde Park</td>\n",
       "      <td>12551</td>\n",
       "      <td>39.4</td>\n",
       "      <td>38924</td>\n",
       "      <td>21.1</td>\n",
       "      <td>38.4</td>\n",
       "      <td>32744</td>\n",
       "      <td>1.9</td>\n",
       "      <td>13.8</td>\n",
       "      <td>21.3</td>\n",
       "    </tr>\n",
       "    <tr>\n",
       "      <th>9</th>\n",
       "      <td>A7</td>\n",
       "      <td>East Boston</td>\n",
       "      <td>9691</td>\n",
       "      <td>30.6</td>\n",
       "      <td>47263</td>\n",
       "      <td>31.1</td>\n",
       "      <td>30.4</td>\n",
       "      <td>31473</td>\n",
       "      <td>3.5</td>\n",
       "      <td>27.2</td>\n",
       "      <td>11.5</td>\n",
       "    </tr>\n",
       "    <tr>\n",
       "      <th>10</th>\n",
       "      <td>E5</td>\n",
       "      <td>West Roxbury</td>\n",
       "      <td>9406</td>\n",
       "      <td>42.8</td>\n",
       "      <td>33526</td>\n",
       "      <td>18.1</td>\n",
       "      <td>46.2</td>\n",
       "      <td>47836</td>\n",
       "      <td>1.9</td>\n",
       "      <td>6.5</td>\n",
       "      <td>13.2</td>\n",
       "    </tr>\n",
       "    <tr>\n",
       "      <th>11</th>\n",
       "      <td>A15</td>\n",
       "      <td>Charlestown</td>\n",
       "      <td>4765</td>\n",
       "      <td>35.7</td>\n",
       "      <td>19890</td>\n",
       "      <td>28.2</td>\n",
       "      <td>36.4</td>\n",
       "      <td>75339</td>\n",
       "      <td>3.4</td>\n",
       "      <td>7.9</td>\n",
       "      <td>8.2</td>\n",
       "    </tr>\n",
       "  </tbody>\n",
       "</table>\n",
       "</div>"
      ],
      "text/plain": [
       "   CODE           NAME  NB_INCIDENTS  MEDIAN_AGE  TOTAL_POP  PERC_OF_30_34  \\\n",
       "0    B2        Roxbury         38877        32.5      54161           27.8   \n",
       "1   C11     Dorchester         32875        33.4     126909           28.2   \n",
       "2    D4      South End         31258        37.1      32571           33.9   \n",
       "3    B3       Mattapan         28331        36.7      26659           20.9   \n",
       "4    A1       Downtown         26260        33.5      18306           32.5   \n",
       "5    C6   South Boston         16617        31.9      36772           46.1   \n",
       "6   D14       Brighton         13788        30.8      55297           52.8   \n",
       "7   E13  Jamaica Plain         12802        34.8      40867           32.5   \n",
       "8   E18      Hyde Park         12551        39.4      38924           21.1   \n",
       "9    A7    East Boston          9691        30.6      47263           31.1   \n",
       "10   E5   West Roxbury          9406        42.8      33526           18.1   \n",
       "11  A15    Charlestown          4765        35.7      19890           28.2   \n",
       "\n",
       "    PERC_MARRIED_COUPLE_FAMILY  PER_CAPITA_INCOME  PERC_OTHER_STATE_OR_ABROAD  \\\n",
       "0                         17.8              20978                         2.9   \n",
       "1                         26.6              29767                         2.4   \n",
       "2                         28.3              83609                         6.2   \n",
       "3                         29.8              28356                         2.3   \n",
       "4                         35.8              80057                        14.8   \n",
       "5                         24.7              64745                         2.4   \n",
       "6                         26.4              41261                         8.6   \n",
       "7                         33.7              51655                         5.5   \n",
       "8                         38.4              32744                         1.9   \n",
       "9                         30.4              31473                         3.5   \n",
       "10                        46.2              47836                         1.9   \n",
       "11                        36.4              75339                         3.4   \n",
       "\n",
       "    PERC_LESS_THAN_HIGH_SCHOOL  PERC_COLLEGE_GRADUATES  \n",
       "0                         23.0                    18.9  \n",
       "1                         18.0                    17.1  \n",
       "2                         11.8                     8.5  \n",
       "3                         14.5                    22.9  \n",
       "4                         15.4                     6.9  \n",
       "5                          7.9                     8.4  \n",
       "6                          6.7                    10.5  \n",
       "7                          8.0                    12.1  \n",
       "8                         13.8                    21.3  \n",
       "9                         27.2                    11.5  \n",
       "10                         6.5                    13.2  \n",
       "11                         7.9                     8.2  "
      ]
     },
     "execution_count": 20,
     "metadata": {},
     "output_type": "execute_result"
    }
   ],
   "source": [
    "crimes_df = pd.read_sql_query(query, conn)\n",
    "crimes_df"
   ]
  },
  {
   "cell_type": "code",
   "execution_count": 21,
   "id": "66f28d40",
   "metadata": {
    "ExecuteTime": {
     "end_time": "2022-05-11T12:29:53.290725Z",
     "start_time": "2022-05-11T12:29:53.285180Z"
    }
   },
   "outputs": [
    {
     "data": {
      "text/plain": [
       "(12, 11)"
      ]
     },
     "execution_count": 21,
     "metadata": {},
     "output_type": "execute_result"
    }
   ],
   "source": [
    "# check of the shape\n",
    "crimes_df.shape"
   ]
  },
  {
   "cell_type": "code",
   "execution_count": 23,
   "id": "e8cf1819",
   "metadata": {
    "ExecuteTime": {
     "end_time": "2022-05-11T12:54:35.419948Z",
     "start_time": "2022-05-11T12:54:35.390186Z"
    }
   },
   "outputs": [
    {
     "name": "stdout",
     "output_type": "stream",
     "text": [
      "<class 'pandas.core.frame.DataFrame'>\n",
      "RangeIndex: 12 entries, 0 to 11\n",
      "Data columns (total 11 columns):\n",
      " #   Column                      Non-Null Count  Dtype  \n",
      "---  ------                      --------------  -----  \n",
      " 0   CODE                        12 non-null     object \n",
      " 1   NAME                        12 non-null     object \n",
      " 2   NB_INCIDENTS                12 non-null     int64  \n",
      " 3   MEDIAN_AGE                  12 non-null     float64\n",
      " 4   TOTAL_POP                   12 non-null     int64  \n",
      " 5   PERC_OF_30_34               12 non-null     float64\n",
      " 6   PERC_MARRIED_COUPLE_FAMILY  12 non-null     float64\n",
      " 7   PER_CAPITA_INCOME           12 non-null     int64  \n",
      " 8   PERC_OTHER_STATE_OR_ABROAD  12 non-null     float64\n",
      " 9   PERC_LESS_THAN_HIGH_SCHOOL  12 non-null     float64\n",
      " 10  PERC_COLLEGE_GRADUATES      12 non-null     float64\n",
      "dtypes: float64(6), int64(3), object(2)\n",
      "memory usage: 1.2+ KB\n"
     ]
    }
   ],
   "source": [
    "crimes_df.info()"
   ]
  },
  {
   "cell_type": "markdown",
   "id": "2884afa5",
   "metadata": {},
   "source": [
    "## Linear Regression"
   ]
  },
  {
   "cell_type": "markdown",
   "id": "bdbf6ee2",
   "metadata": {},
   "source": [
    "We want to investigate the impact of the socio-economic characteristics of the different Boston police districts on the number of incidents that are reported in these areas.\n",
    "\n",
    "We are going to use the number of incidents as dependent variable\n",
    "our regressors will be the various socio-economic indicators extracted from the database."
   ]
  },
  {
   "cell_type": "code",
   "execution_count": 24,
   "id": "618a742f",
   "metadata": {
    "ExecuteTime": {
     "end_time": "2022-05-11T12:57:28.252020Z",
     "start_time": "2022-05-11T12:57:28.243095Z"
    }
   },
   "outputs": [
    {
     "data": {
      "text/plain": [
       "Index(['CODE', 'NAME', 'NB_INCIDENTS', 'MEDIAN_AGE', 'TOTAL_POP',\n",
       "       'PERC_OF_30_34', 'PERC_MARRIED_COUPLE_FAMILY', 'PER_CAPITA_INCOME',\n",
       "       'PERC_OTHER_STATE_OR_ABROAD', 'PERC_LESS_THAN_HIGH_SCHOOL',\n",
       "       'PERC_COLLEGE_GRADUATES'],\n",
       "      dtype='object')"
      ]
     },
     "execution_count": 24,
     "metadata": {},
     "output_type": "execute_result"
    }
   ],
   "source": [
    "crimes_df.columns"
   ]
  },
  {
   "cell_type": "code",
   "execution_count": 28,
   "id": "3e05ff32",
   "metadata": {
    "ExecuteTime": {
     "end_time": "2022-05-11T13:00:50.382742Z",
     "start_time": "2022-05-11T13:00:50.287602Z"
    },
    "scrolled": false
   },
   "outputs": [
    {
     "name": "stderr",
     "output_type": "stream",
     "text": [
      "/home/ameliermd/.pyenv/versions/3.8.12/envs/lewagon/lib/python3.8/site-packages/scipy/stats/stats.py:1541: UserWarning: kurtosistest only valid for n>=20 ... continuing anyway, n=12\n",
      "  warnings.warn(\"kurtosistest only valid for n>=20 ... continuing \"\n"
     ]
    },
    {
     "data": {
      "text/html": [
       "<table class=\"simpletable\">\n",
       "<caption>OLS Regression Results</caption>\n",
       "<tr>\n",
       "  <th>Dep. Variable:</th>      <td>NB_INCIDENTS</td>   <th>  R-squared:         </th> <td>   0.899</td>\n",
       "</tr>\n",
       "<tr>\n",
       "  <th>Model:</th>                   <td>OLS</td>       <th>  Adj. R-squared:    </th> <td>   0.777</td>\n",
       "</tr>\n",
       "<tr>\n",
       "  <th>Method:</th>             <td>Least Squares</td>  <th>  F-statistic:       </th> <td>   7.391</td>\n",
       "</tr>\n",
       "<tr>\n",
       "  <th>Date:</th>             <td>Wed, 11 May 2022</td> <th>  Prob (F-statistic):</th>  <td>0.0222</td> \n",
       "</tr>\n",
       "<tr>\n",
       "  <th>Time:</th>                 <td>15:00:50</td>     <th>  Log-Likelihood:    </th> <td> -114.59</td>\n",
       "</tr>\n",
       "<tr>\n",
       "  <th>No. Observations:</th>      <td>    12</td>      <th>  AIC:               </th> <td>   243.2</td>\n",
       "</tr>\n",
       "<tr>\n",
       "  <th>Df Residuals:</th>          <td>     5</td>      <th>  BIC:               </th> <td>   246.6</td>\n",
       "</tr>\n",
       "<tr>\n",
       "  <th>Df Model:</th>              <td>     6</td>      <th>                     </th>     <td> </td>   \n",
       "</tr>\n",
       "<tr>\n",
       "  <th>Covariance Type:</th>      <td>nonrobust</td>    <th>                     </th>     <td> </td>   \n",
       "</tr>\n",
       "</table>\n",
       "<table class=\"simpletable\">\n",
       "<tr>\n",
       "               <td></td>                 <th>coef</th>     <th>std err</th>      <th>t</th>      <th>P>|t|</th>  <th>[0.025</th>    <th>0.975]</th>  \n",
       "</tr>\n",
       "<tr>\n",
       "  <th>Intercept</th>                  <td> 1.358e+04</td> <td> 6.16e+04</td> <td>    0.220</td> <td> 0.834</td> <td>-1.45e+05</td> <td> 1.72e+05</td>\n",
       "</tr>\n",
       "<tr>\n",
       "  <th>MEDIAN_AGE</th>                 <td> 2252.7344</td> <td> 1237.522</td> <td>    1.820</td> <td> 0.128</td> <td> -928.416</td> <td> 5433.885</td>\n",
       "</tr>\n",
       "<tr>\n",
       "  <th>PERC_OF_30_34</th>              <td> -532.9973</td> <td>  468.940</td> <td>   -1.137</td> <td> 0.307</td> <td>-1738.447</td> <td>  672.452</td>\n",
       "</tr>\n",
       "<tr>\n",
       "  <th>PERC_MARRIED_COUPLE_FAMILY</th> <td>-2115.1839</td> <td>  408.344</td> <td>   -5.180</td> <td> 0.004</td> <td>-3164.866</td> <td>-1065.502</td>\n",
       "</tr>\n",
       "<tr>\n",
       "  <th>PERC_OTHER_STATE_OR_ABROAD</th> <td> 1787.6939</td> <td>  532.432</td> <td>    3.358</td> <td> 0.020</td> <td>  419.034</td> <td> 3156.354</td>\n",
       "</tr>\n",
       "<tr>\n",
       "  <th>PERC_LESS_THAN_HIGH_SCHOOL</th> <td>  112.7375</td> <td>  493.977</td> <td>    0.228</td> <td> 0.829</td> <td>-1157.072</td> <td> 1382.547</td>\n",
       "</tr>\n",
       "<tr>\n",
       "  <th>PERC_COLLEGE_GRADUATES</th>     <td>   19.4699</td> <td>  458.775</td> <td>    0.042</td> <td> 0.968</td> <td>-1159.850</td> <td> 1198.790</td>\n",
       "</tr>\n",
       "</table>\n",
       "<table class=\"simpletable\">\n",
       "<tr>\n",
       "  <th>Omnibus:</th>       <td> 6.933</td> <th>  Durbin-Watson:     </th> <td>   2.325</td>\n",
       "</tr>\n",
       "<tr>\n",
       "  <th>Prob(Omnibus):</th> <td> 0.031</td> <th>  Jarque-Bera (JB):  </th> <td>   3.155</td>\n",
       "</tr>\n",
       "<tr>\n",
       "  <th>Skew:</th>          <td> 1.148</td> <th>  Prob(JB):          </th> <td>   0.206</td>\n",
       "</tr>\n",
       "<tr>\n",
       "  <th>Kurtosis:</th>      <td> 4.020</td> <th>  Cond. No.          </th> <td>2.42e+03</td>\n",
       "</tr>\n",
       "</table><br/><br/>Warnings:<br/>[1] Standard Errors assume that the covariance matrix of the errors is correctly specified.<br/>[2] The condition number is large, 2.42e+03. This might indicate that there are<br/>strong multicollinearity or other numerical problems."
      ],
      "text/plain": [
       "<class 'statsmodels.iolib.summary.Summary'>\n",
       "\"\"\"\n",
       "                            OLS Regression Results                            \n",
       "==============================================================================\n",
       "Dep. Variable:           NB_INCIDENTS   R-squared:                       0.899\n",
       "Model:                            OLS   Adj. R-squared:                  0.777\n",
       "Method:                 Least Squares   F-statistic:                     7.391\n",
       "Date:                Wed, 11 May 2022   Prob (F-statistic):             0.0222\n",
       "Time:                        15:00:50   Log-Likelihood:                -114.59\n",
       "No. Observations:                  12   AIC:                             243.2\n",
       "Df Residuals:                       5   BIC:                             246.6\n",
       "Df Model:                           6                                         \n",
       "Covariance Type:            nonrobust                                         \n",
       "==============================================================================================\n",
       "                                 coef    std err          t      P>|t|      [0.025      0.975]\n",
       "----------------------------------------------------------------------------------------------\n",
       "Intercept                   1.358e+04   6.16e+04      0.220      0.834   -1.45e+05    1.72e+05\n",
       "MEDIAN_AGE                  2252.7344   1237.522      1.820      0.128    -928.416    5433.885\n",
       "PERC_OF_30_34               -532.9973    468.940     -1.137      0.307   -1738.447     672.452\n",
       "PERC_MARRIED_COUPLE_FAMILY -2115.1839    408.344     -5.180      0.004   -3164.866   -1065.502\n",
       "PERC_OTHER_STATE_OR_ABROAD  1787.6939    532.432      3.358      0.020     419.034    3156.354\n",
       "PERC_LESS_THAN_HIGH_SCHOOL   112.7375    493.977      0.228      0.829   -1157.072    1382.547\n",
       "PERC_COLLEGE_GRADUATES        19.4699    458.775      0.042      0.968   -1159.850    1198.790\n",
       "==============================================================================\n",
       "Omnibus:                        6.933   Durbin-Watson:                   2.325\n",
       "Prob(Omnibus):                  0.031   Jarque-Bera (JB):                3.155\n",
       "Skew:                           1.148   Prob(JB):                        0.206\n",
       "Kurtosis:                       4.020   Cond. No.                     2.42e+03\n",
       "==============================================================================\n",
       "\n",
       "Warnings:\n",
       "[1] Standard Errors assume that the covariance matrix of the errors is correctly specified.\n",
       "[2] The condition number is large, 2.42e+03. This might indicate that there are\n",
       "strong multicollinearity or other numerical problems.\n",
       "\"\"\""
      ]
     },
     "execution_count": 28,
     "metadata": {},
     "output_type": "execute_result"
    }
   ],
   "source": [
    "model = smf.ols(formula='NB_INCIDENTS ~ MEDIAN_AGE + PERC_OF_30_34 + PERC_MARRIED_COUPLE_FAMILY + PERC_OTHER_STATE_OR_ABROAD \\\n",
    "+ PERC_LESS_THAN_HIGH_SCHOOL + PERC_COLLEGE_GRADUATES', data=crimes_df)\n",
    "model = model.fit()\n",
    "model.summary()"
   ]
  },
  {
   "cell_type": "markdown",
   "id": "fe1c5111",
   "metadata": {},
   "source": [
    "### Analysis of MEDIAN_AGE\n"
   ]
  },
  {
   "cell_type": "code",
   "execution_count": 29,
   "id": "68e185a5",
   "metadata": {
    "ExecuteTime": {
     "end_time": "2022-05-11T13:05:05.721057Z",
     "start_time": "2022-05-11T13:05:05.716313Z"
    }
   },
   "outputs": [],
   "source": [
    "# median age is associated with a positive effect (see the positive coef in the summary)"
   ]
  },
  {
   "cell_type": "code",
   "execution_count": 31,
   "id": "863521b5",
   "metadata": {
    "ExecuteTime": {
     "end_time": "2022-05-11T13:05:57.929948Z",
     "start_time": "2022-05-11T13:05:57.924873Z"
    }
   },
   "outputs": [],
   "source": [
    "# for median age, t_statistic = 1.820 (from summary)\n",
    "# t_statistic = coef / standard error"
   ]
  },
  {
   "cell_type": "code",
   "execution_count": 32,
   "id": "d3f15fe3",
   "metadata": {
    "ExecuteTime": {
     "end_time": "2022-05-11T13:06:45.793582Z",
     "start_time": "2022-05-11T13:06:45.787869Z"
    }
   },
   "outputs": [
    {
     "data": {
      "text/plain": [
       "1.8203590724043692"
      ]
     },
     "execution_count": 32,
     "metadata": {},
     "output_type": "execute_result"
    }
   ],
   "source": [
    "t_statistic = 2252.7344 / 1237.522\n",
    "t_statistic"
   ]
  },
  {
   "cell_type": "code",
   "execution_count": 34,
   "id": "0082d0e5",
   "metadata": {
    "ExecuteTime": {
     "end_time": "2022-05-11T13:10:21.511573Z",
     "start_time": "2022-05-11T13:10:21.504370Z"
    }
   },
   "outputs": [
    {
     "data": {
      "text/plain": [
       "1.820359754327443"
      ]
     },
     "execution_count": 34,
     "metadata": {},
     "output_type": "execute_result"
    }
   ],
   "source": [
    "# recompute t_stat with the summary's data\n",
    "coef = model.params['MEDIAN_AGE']\n",
    "std_err = model.bse['MEDIAN_AGE']\n",
    "t_stat = coef / std_err\n",
    "t_stat"
   ]
  },
  {
   "cell_type": "code",
   "execution_count": 35,
   "id": "15cd9d0d",
   "metadata": {
    "ExecuteTime": {
     "end_time": "2022-05-11T13:12:52.696330Z",
     "start_time": "2022-05-11T13:12:52.690245Z"
    }
   },
   "outputs": [],
   "source": [
    "# p_value of MEDIAN_AGE\n",
    "p_value = 0.128\n",
    "#     P value is the probability that what you observed is just due to pure chance\n",
    "#     La proba que l'hypothèse nulle soit vraie est ici de 12.8% : cela reste assez élevé. \n",
    "#     La corrélation entre le median age et le nb of incidents n'est donc pas complètement avérée."
   ]
  },
  {
   "cell_type": "markdown",
   "id": "d32038df",
   "metadata": {},
   "source": [
    "### Regressors whose effect is statistically significant"
   ]
  },
  {
   "cell_type": "code",
   "execution_count": 36,
   "id": "bb89e4f3",
   "metadata": {
    "ExecuteTime": {
     "end_time": "2022-05-11T13:14:37.020628Z",
     "start_time": "2022-05-11T13:14:37.016307Z"
    }
   },
   "outputs": [],
   "source": [
    "# The regressors whose effect is statistically significant at the 95% confidence level in this regression model are :\n",
    "# 'PERC_MARRIED_COUPLE_FAMILY' and 'PERC_OTHER_STATE_OR_ABROAD' (smallest p_value)"
   ]
  },
  {
   "cell_type": "code",
   "execution_count": 38,
   "id": "30f7efcb",
   "metadata": {
    "ExecuteTime": {
     "end_time": "2022-05-11T13:16:30.623035Z",
     "start_time": "2022-05-11T13:16:30.617634Z"
    }
   },
   "outputs": [],
   "source": [
    "# For 1% increases of married couples in the district, the number of incidents decreases of -2115 \n",
    "# (see coef of PERC_MARRIED_COUPLE_FAMILY)"
   ]
  },
  {
   "cell_type": "markdown",
   "id": "bf0ee1f0",
   "metadata": {},
   "source": [
    "### Limits of this regression model"
   ]
  },
  {
   "cell_type": "code",
   "execution_count": 42,
   "id": "df1931ae",
   "metadata": {
    "ExecuteTime": {
     "end_time": "2022-05-11T13:24:45.757730Z",
     "start_time": "2022-05-11T13:24:45.753458Z"
    }
   },
   "outputs": [],
   "source": [
    "# Comme observé précédemment, les p values de 4 regressors sont élevées : median_age, perc of 30-34, \n",
    "# high_school et college_graduates. \n",
    "# Seuls married_couple et state_or_abroad ont le plus d'effet sur le nb of incidents.\n",
    "# D'autre part, nous n'avons que 12 lignes, donc 12 observations : cela est très faible pour construire une regression."
   ]
  },
  {
   "cell_type": "markdown",
   "id": "d3379b33",
   "metadata": {
    "ExecuteTime": {
     "end_time": "2022-05-11T10:24:09.467667Z",
     "start_time": "2022-05-11T10:24:09.463953Z"
    }
   },
   "source": [
    "# Analysis for the police department"
   ]
  },
  {
   "cell_type": "markdown",
   "id": "bad8125c",
   "metadata": {},
   "source": [
    "## Data manipulation"
   ]
  },
  {
   "cell_type": "code",
   "execution_count": 51,
   "id": "ae3feb8e",
   "metadata": {
    "ExecuteTime": {
     "end_time": "2022-05-11T13:29:56.838173Z",
     "start_time": "2022-05-11T13:29:53.867853Z"
    }
   },
   "outputs": [
    {
     "name": "stdout",
     "output_type": "stream",
     "text": [
      "  % Total    % Received % Xferd  Average Speed   Time    Time     Time  Current\n",
      "                                 Dload  Upload   Total   Spent    Left  Speed\n",
      "100 19.1M  100 19.1M    0     0  7884k      0  0:00:02  0:00:02 --:--:-- 7887k\n",
      "  % Total    % Received % Xferd  Average Speed   Time    Time     Time  Current\n",
      "                                 Dload  Upload   Total   Spent    Left  Speed\n",
      "100   498  100   498    0     0   2515      0 --:--:-- --:--:-- --:--:--  2515\n"
     ]
    }
   ],
   "source": [
    "# Load csv\n",
    "!curl https://wagon-public-datasets.s3.amazonaws.com/certification_france_2021_q2/incident_reports.csv > data/incident_reports.csv   \n",
    "!curl https://wagon-public-datasets.s3.amazonaws.com/certification_france_2021_q2/districts.csv > data/districts.csv    "
   ]
  },
  {
   "cell_type": "code",
   "execution_count": 52,
   "id": "cd93f3b8",
   "metadata": {
    "ExecuteTime": {
     "end_time": "2022-05-11T13:30:04.306246Z",
     "start_time": "2022-05-11T13:30:03.790136Z"
    }
   },
   "outputs": [
    {
     "data": {
      "text/html": [
       "<div>\n",
       "<style scoped>\n",
       "    .dataframe tbody tr th:only-of-type {\n",
       "        vertical-align: middle;\n",
       "    }\n",
       "\n",
       "    .dataframe tbody tr th {\n",
       "        vertical-align: top;\n",
       "    }\n",
       "\n",
       "    .dataframe thead th {\n",
       "        text-align: right;\n",
       "    }\n",
       "</style>\n",
       "<table border=\"1\" class=\"dataframe\">\n",
       "  <thead>\n",
       "    <tr style=\"text-align: right;\">\n",
       "      <th></th>\n",
       "      <th>INCIDENT_NUMBER</th>\n",
       "      <th>OFFENSE_CODE_GROUP</th>\n",
       "      <th>SHOOTING</th>\n",
       "      <th>OCCURRED_ON_DATE</th>\n",
       "      <th>LAT</th>\n",
       "      <th>LONG</th>\n",
       "      <th>NAME</th>\n",
       "      <th>LAT_POLICE_STATION</th>\n",
       "      <th>LONG_POLICE_STATION</th>\n",
       "    </tr>\n",
       "  </thead>\n",
       "  <tbody>\n",
       "    <tr>\n",
       "      <th>0</th>\n",
       "      <td>I192068249</td>\n",
       "      <td>Other</td>\n",
       "      <td>0</td>\n",
       "      <td>2015-08-28 10:20:00</td>\n",
       "      <td>42.330119</td>\n",
       "      <td>-71.084251</td>\n",
       "      <td>Roxbury</td>\n",
       "      <td>42.328894</td>\n",
       "      <td>-71.085359</td>\n",
       "    </tr>\n",
       "    <tr>\n",
       "      <th>1</th>\n",
       "      <td>I182074094</td>\n",
       "      <td>Violence and harassment</td>\n",
       "      <td>0</td>\n",
       "      <td>2015-09-14 09:31:00</td>\n",
       "      <td>42.315142</td>\n",
       "      <td>-71.067047</td>\n",
       "      <td>Roxbury</td>\n",
       "      <td>42.328894</td>\n",
       "      <td>-71.085359</td>\n",
       "    </tr>\n",
       "    <tr>\n",
       "      <th>2</th>\n",
       "      <td>I182054888</td>\n",
       "      <td>Violence and harassment</td>\n",
       "      <td>0</td>\n",
       "      <td>2015-07-12 15:37:00</td>\n",
       "      <td>42.312243</td>\n",
       "      <td>-71.075499</td>\n",
       "      <td>Roxbury</td>\n",
       "      <td>42.328894</td>\n",
       "      <td>-71.085359</td>\n",
       "    </tr>\n",
       "    <tr>\n",
       "      <th>3</th>\n",
       "      <td>I182054888</td>\n",
       "      <td>Other</td>\n",
       "      <td>0</td>\n",
       "      <td>2015-07-12 15:37:00</td>\n",
       "      <td>42.312243</td>\n",
       "      <td>-71.075499</td>\n",
       "      <td>Roxbury</td>\n",
       "      <td>42.328894</td>\n",
       "      <td>-71.085359</td>\n",
       "    </tr>\n",
       "    <tr>\n",
       "      <th>4</th>\n",
       "      <td>I182054888</td>\n",
       "      <td>Other</td>\n",
       "      <td>0</td>\n",
       "      <td>2015-07-12 15:37:00</td>\n",
       "      <td>42.312243</td>\n",
       "      <td>-71.075499</td>\n",
       "      <td>Roxbury</td>\n",
       "      <td>42.328894</td>\n",
       "      <td>-71.085359</td>\n",
       "    </tr>\n",
       "  </tbody>\n",
       "</table>\n",
       "</div>"
      ],
      "text/plain": [
       "  INCIDENT_NUMBER       OFFENSE_CODE_GROUP  SHOOTING     OCCURRED_ON_DATE  \\\n",
       "0      I192068249                    Other         0  2015-08-28 10:20:00   \n",
       "1      I182074094  Violence and harassment         0  2015-09-14 09:31:00   \n",
       "2      I182054888  Violence and harassment         0  2015-07-12 15:37:00   \n",
       "3      I182054888                    Other         0  2015-07-12 15:37:00   \n",
       "4      I182054888                    Other         0  2015-07-12 15:37:00   \n",
       "\n",
       "         LAT       LONG     NAME  LAT_POLICE_STATION  LONG_POLICE_STATION  \n",
       "0  42.330119 -71.084251  Roxbury           42.328894           -71.085359  \n",
       "1  42.315142 -71.067047  Roxbury           42.328894           -71.085359  \n",
       "2  42.312243 -71.075499  Roxbury           42.328894           -71.085359  \n",
       "3  42.312243 -71.075499  Roxbury           42.328894           -71.085359  \n",
       "4  42.312243 -71.075499  Roxbury           42.328894           -71.085359  "
      ]
     },
     "execution_count": 52,
     "metadata": {},
     "output_type": "execute_result"
    }
   ],
   "source": [
    "# Load dataset\n",
    "from data import load_data_viz_data\n",
    "data = load_data_viz_data()\n",
    "data.head()"
   ]
  },
  {
   "cell_type": "code",
   "execution_count": 49,
   "id": "4c3eaffd",
   "metadata": {
    "ExecuteTime": {
     "end_time": "2022-05-11T13:29:01.646962Z",
     "start_time": "2022-05-11T13:29:01.641340Z"
    }
   },
   "outputs": [
    {
     "data": {
      "text/plain": [
       "(237221, 9)"
      ]
     },
     "execution_count": 49,
     "metadata": {},
     "output_type": "execute_result"
    }
   ],
   "source": [
    "data.shape"
   ]
  },
  {
   "cell_type": "code",
   "execution_count": 50,
   "id": "00c64c2a",
   "metadata": {
    "ExecuteTime": {
     "end_time": "2022-05-11T13:29:12.695988Z",
     "start_time": "2022-05-11T13:29:12.612407Z"
    }
   },
   "outputs": [
    {
     "name": "stdout",
     "output_type": "stream",
     "text": [
      "<class 'pandas.core.frame.DataFrame'>\n",
      "Int64Index: 237221 entries, 0 to 237220\n",
      "Data columns (total 9 columns):\n",
      " #   Column               Non-Null Count   Dtype  \n",
      "---  ------               --------------   -----  \n",
      " 0   INCIDENT_NUMBER      237221 non-null  object \n",
      " 1   OFFENSE_CODE_GROUP   237221 non-null  object \n",
      " 2   SHOOTING             237221 non-null  int64  \n",
      " 3   OCCURRED_ON_DATE     237221 non-null  object \n",
      " 4   LAT                  237221 non-null  float64\n",
      " 5   LONG                 237221 non-null  float64\n",
      " 6   NAME                 237221 non-null  object \n",
      " 7   LAT_POLICE_STATION   237221 non-null  float64\n",
      " 8   LONG_POLICE_STATION  237221 non-null  float64\n",
      "dtypes: float64(4), int64(1), object(4)\n",
      "memory usage: 18.1+ MB\n"
     ]
    }
   ],
   "source": [
    "data.info()"
   ]
  },
  {
   "cell_type": "markdown",
   "id": "bd408bf7",
   "metadata": {
    "heading_collapsed": true
   },
   "source": [
    "### Most represented type of incident per district"
   ]
  },
  {
   "cell_type": "markdown",
   "id": "42eed942",
   "metadata": {
    "hidden": true
   },
   "source": [
    "We want a dataframe with : \n",
    "- one row per police district, designated by its full name\n",
    "- one text column that indicates the name of the most common category of incident in the district over the whole sample period."
   ]
  },
  {
   "cell_type": "code",
   "execution_count": 58,
   "id": "4ee76ac9",
   "metadata": {
    "ExecuteTime": {
     "end_time": "2022-05-11T13:38:16.805562Z",
     "start_time": "2022-05-11T13:38:16.755958Z"
    },
    "hidden": true,
    "scrolled": false
   },
   "outputs": [
    {
     "data": {
      "text/html": [
       "<div>\n",
       "<style scoped>\n",
       "    .dataframe tbody tr th:only-of-type {\n",
       "        vertical-align: middle;\n",
       "    }\n",
       "\n",
       "    .dataframe tbody tr th {\n",
       "        vertical-align: top;\n",
       "    }\n",
       "\n",
       "    .dataframe thead th {\n",
       "        text-align: right;\n",
       "    }\n",
       "</style>\n",
       "<table border=\"1\" class=\"dataframe\">\n",
       "  <thead>\n",
       "    <tr style=\"text-align: right;\">\n",
       "      <th></th>\n",
       "      <th>OFFENSE_CODE_GROUP</th>\n",
       "    </tr>\n",
       "    <tr>\n",
       "      <th>NAME</th>\n",
       "      <th></th>\n",
       "    </tr>\n",
       "  </thead>\n",
       "  <tbody>\n",
       "    <tr>\n",
       "      <th>Brighton</th>\n",
       "      <td>Larceny and vandalism</td>\n",
       "    </tr>\n",
       "    <tr>\n",
       "      <th>Charlestown</th>\n",
       "      <td>Larceny and vandalism</td>\n",
       "    </tr>\n",
       "    <tr>\n",
       "      <th>Dorchester</th>\n",
       "      <td>Larceny and vandalism</td>\n",
       "    </tr>\n",
       "    <tr>\n",
       "      <th>Downtown</th>\n",
       "      <td>Larceny and vandalism</td>\n",
       "    </tr>\n",
       "    <tr>\n",
       "      <th>East Boston</th>\n",
       "      <td>Larceny and vandalism</td>\n",
       "    </tr>\n",
       "    <tr>\n",
       "      <th>Hyde Park</th>\n",
       "      <td>Larceny and vandalism</td>\n",
       "    </tr>\n",
       "    <tr>\n",
       "      <th>Jamaica Plain</th>\n",
       "      <td>Larceny and vandalism</td>\n",
       "    </tr>\n",
       "    <tr>\n",
       "      <th>Mattapan</th>\n",
       "      <td>Police investigation procedure</td>\n",
       "    </tr>\n",
       "    <tr>\n",
       "      <th>Roxbury</th>\n",
       "      <td>Larceny and vandalism</td>\n",
       "    </tr>\n",
       "    <tr>\n",
       "      <th>South Boston</th>\n",
       "      <td>Larceny and vandalism</td>\n",
       "    </tr>\n",
       "    <tr>\n",
       "      <th>South End</th>\n",
       "      <td>Larceny and vandalism</td>\n",
       "    </tr>\n",
       "    <tr>\n",
       "      <th>West Roxbury</th>\n",
       "      <td>Larceny and vandalism</td>\n",
       "    </tr>\n",
       "  </tbody>\n",
       "</table>\n",
       "</div>"
      ],
      "text/plain": [
       "                           OFFENSE_CODE_GROUP\n",
       "NAME                                         \n",
       "Brighton                Larceny and vandalism\n",
       "Charlestown             Larceny and vandalism\n",
       "Dorchester              Larceny and vandalism\n",
       "Downtown                Larceny and vandalism\n",
       "East Boston             Larceny and vandalism\n",
       "Hyde Park               Larceny and vandalism\n",
       "Jamaica Plain           Larceny and vandalism\n",
       "Mattapan       Police investigation procedure\n",
       "Roxbury                 Larceny and vandalism\n",
       "South Boston            Larceny and vandalism\n",
       "South End               Larceny and vandalism\n",
       "West Roxbury            Larceny and vandalism"
      ]
     },
     "execution_count": 58,
     "metadata": {},
     "output_type": "execute_result"
    }
   ],
   "source": [
    "most_incident = pd.DataFrame(data.groupby('NAME')['OFFENSE_CODE_GROUP'].agg(pd.Series.mode))\n",
    "most_incident\n",
    "# pd.Series.mode -> Return the mode(s) of the Series. The mode is the value that appears most often."
   ]
  },
  {
   "cell_type": "code",
   "execution_count": 72,
   "id": "1ff54810",
   "metadata": {
    "ExecuteTime": {
     "end_time": "2022-05-11T13:47:51.126960Z",
     "start_time": "2022-05-11T13:47:51.066750Z"
    },
    "hidden": true,
    "scrolled": true
   },
   "outputs": [
    {
     "data": {
      "text/html": [
       "<div>\n",
       "<style scoped>\n",
       "    .dataframe tbody tr th:only-of-type {\n",
       "        vertical-align: middle;\n",
       "    }\n",
       "\n",
       "    .dataframe tbody tr th {\n",
       "        vertical-align: top;\n",
       "    }\n",
       "\n",
       "    .dataframe thead th {\n",
       "        text-align: right;\n",
       "    }\n",
       "</style>\n",
       "<table border=\"1\" class=\"dataframe\">\n",
       "  <thead>\n",
       "    <tr style=\"text-align: right;\">\n",
       "      <th></th>\n",
       "      <th>INCIDENT_NUMBER</th>\n",
       "    </tr>\n",
       "    <tr>\n",
       "      <th>OFFENSE_CODE_GROUP</th>\n",
       "      <th></th>\n",
       "    </tr>\n",
       "  </thead>\n",
       "  <tbody>\n",
       "    <tr>\n",
       "      <th>Larceny and vandalism</th>\n",
       "      <td>5274</td>\n",
       "    </tr>\n",
       "    <tr>\n",
       "      <th>Police investigation procedure</th>\n",
       "      <td>2783</td>\n",
       "    </tr>\n",
       "    <tr>\n",
       "      <th>Fraud and law violations</th>\n",
       "      <td>1807</td>\n",
       "    </tr>\n",
       "    <tr>\n",
       "      <th>Violence and harassment</th>\n",
       "      <td>1627</td>\n",
       "    </tr>\n",
       "    <tr>\n",
       "      <th>Other</th>\n",
       "      <td>925</td>\n",
       "    </tr>\n",
       "    <tr>\n",
       "      <th>Drugs and disorderly conduct</th>\n",
       "      <td>809</td>\n",
       "    </tr>\n",
       "    <tr>\n",
       "      <th>Disputes</th>\n",
       "      <td>563</td>\n",
       "    </tr>\n",
       "  </tbody>\n",
       "</table>\n",
       "</div>"
      ],
      "text/plain": [
       "                                INCIDENT_NUMBER\n",
       "OFFENSE_CODE_GROUP                             \n",
       "Larceny and vandalism                      5274\n",
       "Police investigation procedure             2783\n",
       "Fraud and law violations                   1807\n",
       "Violence and harassment                    1627\n",
       "Other                                       925\n",
       "Drugs and disorderly conduct                809\n",
       "Disputes                                    563"
      ]
     },
     "execution_count": 72,
     "metadata": {},
     "output_type": "execute_result"
    }
   ],
   "source": [
    "# Sorted list of all incidents in Brighton district\n",
    "brighton_incidents = data[data['NAME'] == 'Brighton'].groupby('OFFENSE_CODE_GROUP').count().sort_values('INCIDENT_NUMBER', ascending=False)\n",
    "brighton_incidents[['INCIDENT_NUMBER']]"
   ]
  },
  {
   "cell_type": "markdown",
   "id": "b3327f35",
   "metadata": {},
   "source": [
    "### Average distance to the police station per district"
   ]
  },
  {
   "cell_type": "code",
   "execution_count": 73,
   "id": "0458b77d",
   "metadata": {
    "ExecuteTime": {
     "end_time": "2022-05-11T13:51:08.999760Z",
     "start_time": "2022-05-11T13:51:08.989560Z"
    }
   },
   "outputs": [],
   "source": [
    "# Haversine distance function\n",
    "from math import radians, sin, cos, asin, sqrt\n",
    "\n",
    "def haversine_distance(lon1, lat1, lon2, lat2):\n",
    "    \"\"\"\n",
    "    Compute distance (km) between two pairs of (lat, lng) coordinates\n",
    "    See - (https://en.wikipedia.org/wiki/Haversine_formula)\n",
    "    \"\"\"\n",
    "    \n",
    "    lon1, lat1, lon2, lat2 = map(radians, [lon1, lat1, lon2, lat2])\n",
    "    dlon = lon2 - lon1\n",
    "    dlat = lat2 - lat1\n",
    "    \n",
    "    a = sin(dlat / 2) ** 2 + cos(lat1) * cos(lat2) * sin(dlon / 2) ** 2\n",
    "    \n",
    "    return 2 * 6371 * asin(sqrt(a))"
   ]
  },
  {
   "cell_type": "code",
   "execution_count": 92,
   "id": "50d82adb",
   "metadata": {
    "ExecuteTime": {
     "end_time": "2022-05-11T14:10:52.449211Z",
     "start_time": "2022-05-11T14:10:43.108900Z"
    }
   },
   "outputs": [
    {
     "data": {
      "text/html": [
       "<div>\n",
       "<style scoped>\n",
       "    .dataframe tbody tr th:only-of-type {\n",
       "        vertical-align: middle;\n",
       "    }\n",
       "\n",
       "    .dataframe tbody tr th {\n",
       "        vertical-align: top;\n",
       "    }\n",
       "\n",
       "    .dataframe thead th {\n",
       "        text-align: right;\n",
       "    }\n",
       "</style>\n",
       "<table border=\"1\" class=\"dataframe\">\n",
       "  <thead>\n",
       "    <tr style=\"text-align: right;\">\n",
       "      <th></th>\n",
       "      <th>INCIDENT_NUMBER</th>\n",
       "      <th>OFFENSE_CODE_GROUP</th>\n",
       "      <th>SHOOTING</th>\n",
       "      <th>OCCURRED_ON_DATE</th>\n",
       "      <th>LAT</th>\n",
       "      <th>LONG</th>\n",
       "      <th>NAME</th>\n",
       "      <th>LAT_POLICE_STATION</th>\n",
       "      <th>LONG_POLICE_STATION</th>\n",
       "      <th>average_distance</th>\n",
       "    </tr>\n",
       "  </thead>\n",
       "  <tbody>\n",
       "    <tr>\n",
       "      <th>0</th>\n",
       "      <td>I192068249</td>\n",
       "      <td>Other</td>\n",
       "      <td>0</td>\n",
       "      <td>2015-08-28 10:20:00</td>\n",
       "      <td>42.330119</td>\n",
       "      <td>-71.084251</td>\n",
       "      <td>Roxbury</td>\n",
       "      <td>42.328894</td>\n",
       "      <td>-71.085359</td>\n",
       "      <td>0.163832</td>\n",
       "    </tr>\n",
       "    <tr>\n",
       "      <th>1</th>\n",
       "      <td>I182074094</td>\n",
       "      <td>Violence and harassment</td>\n",
       "      <td>0</td>\n",
       "      <td>2015-09-14 09:31:00</td>\n",
       "      <td>42.315142</td>\n",
       "      <td>-71.067047</td>\n",
       "      <td>Roxbury</td>\n",
       "      <td>42.328894</td>\n",
       "      <td>-71.085359</td>\n",
       "      <td>2.145919</td>\n",
       "    </tr>\n",
       "    <tr>\n",
       "      <th>2</th>\n",
       "      <td>I182054888</td>\n",
       "      <td>Violence and harassment</td>\n",
       "      <td>0</td>\n",
       "      <td>2015-07-12 15:37:00</td>\n",
       "      <td>42.312243</td>\n",
       "      <td>-71.075499</td>\n",
       "      <td>Roxbury</td>\n",
       "      <td>42.328894</td>\n",
       "      <td>-71.085359</td>\n",
       "      <td>2.021175</td>\n",
       "    </tr>\n",
       "    <tr>\n",
       "      <th>3</th>\n",
       "      <td>I182054888</td>\n",
       "      <td>Other</td>\n",
       "      <td>0</td>\n",
       "      <td>2015-07-12 15:37:00</td>\n",
       "      <td>42.312243</td>\n",
       "      <td>-71.075499</td>\n",
       "      <td>Roxbury</td>\n",
       "      <td>42.328894</td>\n",
       "      <td>-71.085359</td>\n",
       "      <td>2.021175</td>\n",
       "    </tr>\n",
       "    <tr>\n",
       "      <th>4</th>\n",
       "      <td>I182054888</td>\n",
       "      <td>Other</td>\n",
       "      <td>0</td>\n",
       "      <td>2015-07-12 15:37:00</td>\n",
       "      <td>42.312243</td>\n",
       "      <td>-71.075499</td>\n",
       "      <td>Roxbury</td>\n",
       "      <td>42.328894</td>\n",
       "      <td>-71.085359</td>\n",
       "      <td>2.021175</td>\n",
       "    </tr>\n",
       "    <tr>\n",
       "      <th>...</th>\n",
       "      <td>...</td>\n",
       "      <td>...</td>\n",
       "      <td>...</td>\n",
       "      <td>...</td>\n",
       "      <td>...</td>\n",
       "      <td>...</td>\n",
       "      <td>...</td>\n",
       "      <td>...</td>\n",
       "      <td>...</td>\n",
       "      <td>...</td>\n",
       "    </tr>\n",
       "    <tr>\n",
       "      <th>237216</th>\n",
       "      <td>I172049757</td>\n",
       "      <td>Police investigation procedure</td>\n",
       "      <td>0</td>\n",
       "      <td>2018-08-09 18:00:00</td>\n",
       "      <td>42.355216</td>\n",
       "      <td>-71.060129</td>\n",
       "      <td>Charlestown</td>\n",
       "      <td>42.361800</td>\n",
       "      <td>-71.060300</td>\n",
       "      <td>0.732215</td>\n",
       "    </tr>\n",
       "    <tr>\n",
       "      <th>237217</th>\n",
       "      <td>I172049757</td>\n",
       "      <td>Drugs and disorderly conduct</td>\n",
       "      <td>0</td>\n",
       "      <td>2018-08-09 18:00:00</td>\n",
       "      <td>42.355216</td>\n",
       "      <td>-71.060129</td>\n",
       "      <td>Charlestown</td>\n",
       "      <td>42.361800</td>\n",
       "      <td>-71.060300</td>\n",
       "      <td>0.732215</td>\n",
       "    </tr>\n",
       "    <tr>\n",
       "      <th>237218</th>\n",
       "      <td>I172027369</td>\n",
       "      <td>Other</td>\n",
       "      <td>0</td>\n",
       "      <td>2018-12-12 05:00:00</td>\n",
       "      <td>42.376852</td>\n",
       "      <td>-71.068873</td>\n",
       "      <td>Charlestown</td>\n",
       "      <td>42.361800</td>\n",
       "      <td>-71.060300</td>\n",
       "      <td>1.815839</td>\n",
       "    </tr>\n",
       "    <tr>\n",
       "      <th>237219</th>\n",
       "      <td>I172027369</td>\n",
       "      <td>Police investigation procedure</td>\n",
       "      <td>0</td>\n",
       "      <td>2018-12-12 05:00:00</td>\n",
       "      <td>42.376852</td>\n",
       "      <td>-71.068873</td>\n",
       "      <td>Charlestown</td>\n",
       "      <td>42.361800</td>\n",
       "      <td>-71.060300</td>\n",
       "      <td>1.815839</td>\n",
       "    </tr>\n",
       "    <tr>\n",
       "      <th>237220</th>\n",
       "      <td>I172027369</td>\n",
       "      <td>Violence and harassment</td>\n",
       "      <td>0</td>\n",
       "      <td>2018-12-12 05:00:00</td>\n",
       "      <td>42.376852</td>\n",
       "      <td>-71.068873</td>\n",
       "      <td>Charlestown</td>\n",
       "      <td>42.361800</td>\n",
       "      <td>-71.060300</td>\n",
       "      <td>1.815839</td>\n",
       "    </tr>\n",
       "  </tbody>\n",
       "</table>\n",
       "<p>237221 rows × 10 columns</p>\n",
       "</div>"
      ],
      "text/plain": [
       "       INCIDENT_NUMBER              OFFENSE_CODE_GROUP  SHOOTING  \\\n",
       "0           I192068249                           Other         0   \n",
       "1           I182074094         Violence and harassment         0   \n",
       "2           I182054888         Violence and harassment         0   \n",
       "3           I182054888                           Other         0   \n",
       "4           I182054888                           Other         0   \n",
       "...                ...                             ...       ...   \n",
       "237216      I172049757  Police investigation procedure         0   \n",
       "237217      I172049757    Drugs and disorderly conduct         0   \n",
       "237218      I172027369                           Other         0   \n",
       "237219      I172027369  Police investigation procedure         0   \n",
       "237220      I172027369         Violence and harassment         0   \n",
       "\n",
       "           OCCURRED_ON_DATE        LAT       LONG         NAME  \\\n",
       "0       2015-08-28 10:20:00  42.330119 -71.084251      Roxbury   \n",
       "1       2015-09-14 09:31:00  42.315142 -71.067047      Roxbury   \n",
       "2       2015-07-12 15:37:00  42.312243 -71.075499      Roxbury   \n",
       "3       2015-07-12 15:37:00  42.312243 -71.075499      Roxbury   \n",
       "4       2015-07-12 15:37:00  42.312243 -71.075499      Roxbury   \n",
       "...                     ...        ...        ...          ...   \n",
       "237216  2018-08-09 18:00:00  42.355216 -71.060129  Charlestown   \n",
       "237217  2018-08-09 18:00:00  42.355216 -71.060129  Charlestown   \n",
       "237218  2018-12-12 05:00:00  42.376852 -71.068873  Charlestown   \n",
       "237219  2018-12-12 05:00:00  42.376852 -71.068873  Charlestown   \n",
       "237220  2018-12-12 05:00:00  42.376852 -71.068873  Charlestown   \n",
       "\n",
       "        LAT_POLICE_STATION  LONG_POLICE_STATION  average_distance  \n",
       "0                42.328894           -71.085359          0.163832  \n",
       "1                42.328894           -71.085359          2.145919  \n",
       "2                42.328894           -71.085359          2.021175  \n",
       "3                42.328894           -71.085359          2.021175  \n",
       "4                42.328894           -71.085359          2.021175  \n",
       "...                    ...                  ...               ...  \n",
       "237216           42.361800           -71.060300          0.732215  \n",
       "237217           42.361800           -71.060300          0.732215  \n",
       "237218           42.361800           -71.060300          1.815839  \n",
       "237219           42.361800           -71.060300          1.815839  \n",
       "237220           42.361800           -71.060300          1.815839  \n",
       "\n",
       "[237221 rows x 10 columns]"
      ]
     },
     "execution_count": 92,
     "metadata": {},
     "output_type": "execute_result"
    }
   ],
   "source": [
    "# New column with the average distance between incident & police station per district\n",
    "distance_df = pd.DataFrame(data)\n",
    "distance_df['average_distance'] = distance_df.apply(lambda x: haversine_distance(x.LONG, x.LAT, x.LONG_POLICE_STATION, \\\n",
    "                                                                                 x.LAT_POLICE_STATION), axis=1)\n",
    "distance_df"
   ]
  },
  {
   "cell_type": "code",
   "execution_count": 93,
   "id": "d14145f7",
   "metadata": {
    "ExecuteTime": {
     "end_time": "2022-05-11T14:10:52.499673Z",
     "start_time": "2022-05-11T14:10:52.455162Z"
    }
   },
   "outputs": [
    {
     "data": {
      "text/html": [
       "<div>\n",
       "<style scoped>\n",
       "    .dataframe tbody tr th:only-of-type {\n",
       "        vertical-align: middle;\n",
       "    }\n",
       "\n",
       "    .dataframe tbody tr th {\n",
       "        vertical-align: top;\n",
       "    }\n",
       "\n",
       "    .dataframe thead th {\n",
       "        text-align: right;\n",
       "    }\n",
       "</style>\n",
       "<table border=\"1\" class=\"dataframe\">\n",
       "  <thead>\n",
       "    <tr style=\"text-align: right;\">\n",
       "      <th></th>\n",
       "      <th>average_distance</th>\n",
       "    </tr>\n",
       "    <tr>\n",
       "      <th>NAME</th>\n",
       "      <th></th>\n",
       "    </tr>\n",
       "  </thead>\n",
       "  <tbody>\n",
       "    <tr>\n",
       "      <th>Brighton</th>\n",
       "      <td>3.770867</td>\n",
       "    </tr>\n",
       "    <tr>\n",
       "      <th>Charlestown</th>\n",
       "      <td>58.758394</td>\n",
       "    </tr>\n",
       "    <tr>\n",
       "      <th>Dorchester</th>\n",
       "      <td>3.174444</td>\n",
       "    </tr>\n",
       "    <tr>\n",
       "      <th>Downtown</th>\n",
       "      <td>6.336657</td>\n",
       "    </tr>\n",
       "    <tr>\n",
       "      <th>East Boston</th>\n",
       "      <td>5.568626</td>\n",
       "    </tr>\n",
       "    <tr>\n",
       "      <th>Hyde Park</th>\n",
       "      <td>2.397613</td>\n",
       "    </tr>\n",
       "    <tr>\n",
       "      <th>Jamaica Plain</th>\n",
       "      <td>2.585737</td>\n",
       "    </tr>\n",
       "    <tr>\n",
       "      <th>Mattapan</th>\n",
       "      <td>1.908636</td>\n",
       "    </tr>\n",
       "    <tr>\n",
       "      <th>Roxbury</th>\n",
       "      <td>2.989029</td>\n",
       "    </tr>\n",
       "    <tr>\n",
       "      <th>South Boston</th>\n",
       "      <td>31.454220</td>\n",
       "    </tr>\n",
       "    <tr>\n",
       "      <th>South End</th>\n",
       "      <td>1.862039</td>\n",
       "    </tr>\n",
       "    <tr>\n",
       "      <th>West Roxbury</th>\n",
       "      <td>18.370045</td>\n",
       "    </tr>\n",
       "  </tbody>\n",
       "</table>\n",
       "</div>"
      ],
      "text/plain": [
       "               average_distance\n",
       "NAME                           \n",
       "Brighton               3.770867\n",
       "Charlestown           58.758394\n",
       "Dorchester             3.174444\n",
       "Downtown               6.336657\n",
       "East Boston            5.568626\n",
       "Hyde Park              2.397613\n",
       "Jamaica Plain          2.585737\n",
       "Mattapan               1.908636\n",
       "Roxbury                2.989029\n",
       "South Boston          31.454220\n",
       "South End              1.862039\n",
       "West Roxbury          18.370045"
      ]
     },
     "execution_count": 93,
     "metadata": {},
     "output_type": "execute_result"
    }
   ],
   "source": [
    "# DataFrame with one row per police district, designated by its full name, and one column that displays this average Haversine distance\n",
    "distance_df = pd.DataFrame(distance_df[['NAME', 'average_distance']].groupby(by='NAME')['average_distance'].mean())\n",
    "distance_df"
   ]
  },
  {
   "cell_type": "code",
   "execution_count": 95,
   "id": "126ad039",
   "metadata": {
    "ExecuteTime": {
     "end_time": "2022-05-11T14:12:02.842902Z",
     "start_time": "2022-05-11T14:12:02.826417Z"
    }
   },
   "outputs": [
    {
     "data": {
      "text/html": [
       "<div>\n",
       "<style scoped>\n",
       "    .dataframe tbody tr th:only-of-type {\n",
       "        vertical-align: middle;\n",
       "    }\n",
       "\n",
       "    .dataframe tbody tr th {\n",
       "        vertical-align: top;\n",
       "    }\n",
       "\n",
       "    .dataframe thead th {\n",
       "        text-align: right;\n",
       "    }\n",
       "</style>\n",
       "<table border=\"1\" class=\"dataframe\">\n",
       "  <thead>\n",
       "    <tr style=\"text-align: right;\">\n",
       "      <th></th>\n",
       "      <th>average_distance</th>\n",
       "    </tr>\n",
       "    <tr>\n",
       "      <th>NAME</th>\n",
       "      <th></th>\n",
       "    </tr>\n",
       "  </thead>\n",
       "  <tbody>\n",
       "    <tr>\n",
       "      <th>Charlestown</th>\n",
       "      <td>58.758394</td>\n",
       "    </tr>\n",
       "    <tr>\n",
       "      <th>South Boston</th>\n",
       "      <td>31.454220</td>\n",
       "    </tr>\n",
       "    <tr>\n",
       "      <th>West Roxbury</th>\n",
       "      <td>18.370045</td>\n",
       "    </tr>\n",
       "    <tr>\n",
       "      <th>Downtown</th>\n",
       "      <td>6.336657</td>\n",
       "    </tr>\n",
       "    <tr>\n",
       "      <th>East Boston</th>\n",
       "      <td>5.568626</td>\n",
       "    </tr>\n",
       "    <tr>\n",
       "      <th>Brighton</th>\n",
       "      <td>3.770867</td>\n",
       "    </tr>\n",
       "    <tr>\n",
       "      <th>Dorchester</th>\n",
       "      <td>3.174444</td>\n",
       "    </tr>\n",
       "    <tr>\n",
       "      <th>Roxbury</th>\n",
       "      <td>2.989029</td>\n",
       "    </tr>\n",
       "    <tr>\n",
       "      <th>Jamaica Plain</th>\n",
       "      <td>2.585737</td>\n",
       "    </tr>\n",
       "    <tr>\n",
       "      <th>Hyde Park</th>\n",
       "      <td>2.397613</td>\n",
       "    </tr>\n",
       "    <tr>\n",
       "      <th>Mattapan</th>\n",
       "      <td>1.908636</td>\n",
       "    </tr>\n",
       "    <tr>\n",
       "      <th>South End</th>\n",
       "      <td>1.862039</td>\n",
       "    </tr>\n",
       "  </tbody>\n",
       "</table>\n",
       "</div>"
      ],
      "text/plain": [
       "               average_distance\n",
       "NAME                           \n",
       "Charlestown           58.758394\n",
       "South Boston          31.454220\n",
       "West Roxbury          18.370045\n",
       "Downtown               6.336657\n",
       "East Boston            5.568626\n",
       "Brighton               3.770867\n",
       "Dorchester             3.174444\n",
       "Roxbury                2.989029\n",
       "Jamaica Plain          2.585737\n",
       "Hyde Park              2.397613\n",
       "Mattapan               1.908636\n",
       "South End              1.862039"
      ]
     },
     "execution_count": 95,
     "metadata": {},
     "output_type": "execute_result"
    }
   ],
   "source": [
    "distance_df.sort_values(by='average_distance', ascending=False, inplace=True)\n",
    "distance_df"
   ]
  },
  {
   "cell_type": "code",
   "execution_count": 101,
   "id": "22627b87",
   "metadata": {
    "ExecuteTime": {
     "end_time": "2022-05-11T14:20:46.176174Z",
     "start_time": "2022-05-11T14:20:46.167252Z"
    }
   },
   "outputs": [
    {
     "data": {
      "text/html": [
       "<div>\n",
       "<style scoped>\n",
       "    .dataframe tbody tr th:only-of-type {\n",
       "        vertical-align: middle;\n",
       "    }\n",
       "\n",
       "    .dataframe tbody tr th {\n",
       "        vertical-align: top;\n",
       "    }\n",
       "\n",
       "    .dataframe thead th {\n",
       "        text-align: right;\n",
       "    }\n",
       "</style>\n",
       "<table border=\"1\" class=\"dataframe\">\n",
       "  <thead>\n",
       "    <tr style=\"text-align: right;\">\n",
       "      <th></th>\n",
       "      <th>average_distance</th>\n",
       "    </tr>\n",
       "    <tr>\n",
       "      <th>NAME</th>\n",
       "      <th></th>\n",
       "    </tr>\n",
       "  </thead>\n",
       "  <tbody>\n",
       "    <tr>\n",
       "      <th>Brighton</th>\n",
       "      <td>3.770867</td>\n",
       "    </tr>\n",
       "  </tbody>\n",
       "</table>\n",
       "</div>"
      ],
      "text/plain": [
       "          average_distance\n",
       "NAME                      \n",
       "Brighton          3.770867"
      ]
     },
     "execution_count": 101,
     "metadata": {},
     "output_type": "execute_result"
    }
   ],
   "source": [
    "# Distance for Brihghton district\n",
    "distance_df[distance_df.index == 'Brighton']"
   ]
  },
  {
   "cell_type": "markdown",
   "id": "427ef8d2",
   "metadata": {
    "ExecuteTime": {
     "end_time": "2022-05-11T10:25:03.840497Z",
     "start_time": "2022-05-11T10:25:03.836867Z"
    }
   },
   "source": [
    "## Data visualisation"
   ]
  },
  {
   "cell_type": "markdown",
   "id": "fb84b909",
   "metadata": {},
   "source": [
    "See the second Notebook 'boston_crimes_dataviz.ipynb'"
   ]
  },
  {
   "cell_type": "markdown",
   "id": "99837b31",
   "metadata": {},
   "source": [
    "## Short presentation"
   ]
  },
  {
   "cell_type": "markdown",
   "id": "6ebd26b4",
   "metadata": {},
   "source": [
    "See the pdf presentation for the head of the Police Department"
   ]
  }
 ],
 "metadata": {
  "kernelspec": {
   "display_name": "Python 3 (ipykernel)",
   "language": "python",
   "name": "python3"
  },
  "language_info": {
   "codemirror_mode": {
    "name": "ipython",
    "version": 3
   },
   "file_extension": ".py",
   "mimetype": "text/x-python",
   "name": "python",
   "nbconvert_exporter": "python",
   "pygments_lexer": "ipython3",
   "version": "3.8.12"
  },
  "toc": {
   "base_numbering": 1,
   "nav_menu": {},
   "number_sections": true,
   "sideBar": true,
   "skip_h1_title": false,
   "title_cell": "Table of Contents",
   "title_sidebar": "Contents",
   "toc_cell": false,
   "toc_position": {},
   "toc_section_display": true,
   "toc_window_display": false
  }
 },
 "nbformat": 4,
 "nbformat_minor": 5
}
